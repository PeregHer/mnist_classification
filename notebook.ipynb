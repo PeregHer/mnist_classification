{
 "cells": [
  {
   "source": [
    "### 1.2 Information sur les données"
   ],
   "cell_type": "markdown",
   "metadata": {}
  },
  {
   "cell_type": "markdown",
   "metadata": {},
   "source": [
    "# Apprentissage supervisé - Classification"
   ]
  },
  {
   "source": [
    "## 1 - Préparation des données\n",
    "\n",
    "### 1.1 - Téléchargement de données"
   ],
   "cell_type": "markdown",
   "metadata": {}
  },
  {
   "cell_type": "code",
   "execution_count": 103,
   "metadata": {},
   "outputs": [],
   "source": [
    "import pandas as pd\n",
    "import numpy as np\n",
    "import matplotlib.pyplot as plt\n",
    "from sklearn.datasets import fetch_openml"
   ]
  },
  {
   "cell_type": "code",
   "execution_count": 104,
   "metadata": {},
   "outputs": [],
   "source": [
    "mnist = fetch_openml(name=\"mnist_784\", version=1)"
   ]
  },
  {
   "source": [
    "### 1.2 - Information sur les données"
   ],
   "cell_type": "markdown",
   "metadata": {}
  },
  {
   "cell_type": "code",
   "execution_count": 105,
   "metadata": {},
   "outputs": [
    {
     "output_type": "execute_result",
     "data": {
      "text/plain": [
       "dict_keys(['data', 'target', 'frame', 'categories', 'feature_names', 'target_names', 'DESCR', 'details', 'url'])"
      ]
     },
     "metadata": {},
     "execution_count": 105
    }
   ],
   "source": [
    "# Afficher les clés du dictionnaire\n",
    "mnist.keys()"
   ]
  },
  {
   "cell_type": "code",
   "execution_count": 106,
   "metadata": {},
   "outputs": [
    {
     "output_type": "stream",
     "name": "stdout",
     "text": [
      "Shape de X: (70000, 784)\nShape de y: (70000,)\nDifférentes classes: ['0' '1' '2' '3' '4' '5' '6' '7' '8' '9']\n"
     ]
    }
   ],
   "source": [
    "#Séparer les features et la target\n",
    "X, y = mnist['data'], mnist['target']\n",
    "# Afficher le nombre de features\n",
    "print('Shape de X:', X.shape)\n",
    "# Afficher le nombre de labels\n",
    "print('Shape de y:', y.shape)\n",
    "# Afficher les différentes classes\n",
    "print('Différentes classes:',np.unique(y))\n",
    "\n"
   ]
  },
  {
   "cell_type": "code",
   "execution_count": 107,
   "metadata": {},
   "outputs": [
    {
     "output_type": "execute_result",
     "data": {
      "text/plain": [
       "\"**Author**: Yann LeCun, Corinna Cortes, Christopher J.C. Burges  \\n**Source**: [MNIST Website](http://yann.lecun.com/exdb/mnist/) - Date unknown  \\n**Please cite**:  \\n\\nThe MNIST database of handwritten digits with 784 features, raw data available at: http://yann.lecun.com/exdb/mnist/. It can be split in a training set of the first 60,000 examples, and a test set of 10,000 examples  \\n\\nIt is a subset of a larger set available from NIST. The digits have been size-normalized and centered in a fixed-size image. It is a good database for people who want to try learning techniques and pattern recognition methods on real-world data while spending minimal efforts on preprocessing and formatting. The original black and white (bilevel) images from NIST were size normalized to fit in a 20x20 pixel box while preserving their aspect ratio. The resulting images contain grey levels as a result of the anti-aliasing technique used by the normalization algorithm. the images were centered in a 28x28 image by computing the center of mass of the pixels, and translating the image so as to position this point at the center of the 28x28 field.  \\n\\nWith some classification methods (particularly template-based methods, such as SVM and K-nearest neighbors), the error rate improves when the digits are centered by bounding box rather than center of mass. If you do this kind of pre-processing, you should report it in your publications. The MNIST database was constructed from NIST's NIST originally designated SD-3 as their training set and SD-1 as their test set. However, SD-3 is much cleaner and easier to recognize than SD-1. The reason for this can be found on the fact that SD-3 was collected among Census Bureau employees, while SD-1 was collected among high-school students. Drawing sensible conclusions from learning experiments requires that the result be independent of the choice of training set and test among the complete set of samples. Therefore it was necessary to build a new database by mixing NIST's datasets.  \\n\\nThe MNIST training set is composed of 30,000 patterns from SD-3 and 30,000 patterns from SD-1. Our test set was composed of 5,000 patterns from SD-3 and 5,000 patterns from SD-1. The 60,000 pattern training set contained examples from approximately 250 writers. We made sure that the sets of writers of the training set and test set were disjoint. SD-1 contains 58,527 digit images written by 500 different writers. In contrast to SD-3, where blocks of data from each writer appeared in sequence, the data in SD-1 is scrambled. Writer identities for SD-1 is available and we used this information to unscramble the writers. We then split SD-1 in two: characters written by the first 250 writers went into our new training set. The remaining 250 writers were placed in our test set. Thus we had two sets with nearly 30,000 examples each. The new training set was completed with enough examples from SD-3, starting at pattern # 0, to make a full set of 60,000 training patterns. Similarly, the new test set was completed with SD-3 examples starting at pattern # 35,000 to make a full set with 60,000 test patterns. Only a subset of 10,000 test images (5,000 from SD-1 and 5,000 from SD-3) is available on this site. The full 60,000 sample training set is available.\\n\\nDownloaded from openml.org.\""
      ]
     },
     "metadata": {},
     "execution_count": 107
    }
   ],
   "source": [
    "# Afficher une déscription de la base de données\n",
    "mnist['DESCR']"
   ]
  },
  {
   "cell_type": "code",
   "execution_count": 108,
   "metadata": {},
   "outputs": [
    {
     "output_type": "execute_result",
     "data": {
      "text/plain": [
       "'5'"
      ]
     },
     "metadata": {},
     "execution_count": 108
    },
    {
     "output_type": "display_data",
     "data": {
      "text/plain": "<Figure size 432x288 with 1 Axes>",
      "image/svg+xml": "<?xml version=\"1.0\" encoding=\"utf-8\" standalone=\"no\"?>\r\n<!DOCTYPE svg PUBLIC \"-//W3C//DTD SVG 1.1//EN\"\r\n  \"http://www.w3.org/Graphics/SVG/1.1/DTD/svg11.dtd\">\r\n<!-- Created with matplotlib (https://matplotlib.org/) -->\r\n<svg height=\"248.518125pt\" version=\"1.1\" viewBox=\"0 0 251.565 248.518125\" width=\"251.565pt\" xmlns=\"http://www.w3.org/2000/svg\" xmlns:xlink=\"http://www.w3.org/1999/xlink\">\r\n <metadata>\r\n  <rdf:RDF xmlns:cc=\"http://creativecommons.org/ns#\" xmlns:dc=\"http://purl.org/dc/elements/1.1/\" xmlns:rdf=\"http://www.w3.org/1999/02/22-rdf-syntax-ns#\">\r\n   <cc:Work>\r\n    <dc:type rdf:resource=\"http://purl.org/dc/dcmitype/StillImage\"/>\r\n    <dc:date>2020-12-17T14:59:34.457311</dc:date>\r\n    <dc:format>image/svg+xml</dc:format>\r\n    <dc:creator>\r\n     <cc:Agent>\r\n      <dc:title>Matplotlib v3.3.2, https://matplotlib.org/</dc:title>\r\n     </cc:Agent>\r\n    </dc:creator>\r\n   </cc:Work>\r\n  </rdf:RDF>\r\n </metadata>\r\n <defs>\r\n  <style type=\"text/css\">*{stroke-linecap:butt;stroke-linejoin:round;}</style>\r\n </defs>\r\n <g id=\"figure_1\">\r\n  <g id=\"patch_1\">\r\n   <path d=\"M 0 248.518125 \r\nL 251.565 248.518125 \r\nL 251.565 0 \r\nL 0 0 \r\nz\r\n\" style=\"fill:none;\"/>\r\n  </g>\r\n  <g id=\"axes_1\">\r\n   <g id=\"patch_2\">\r\n    <path d=\"M 26.925 224.64 \r\nL 244.365 224.64 \r\nL 244.365 7.2 \r\nL 26.925 7.2 \r\nz\r\n\" style=\"fill:#ffffff;\"/>\r\n   </g>\r\n   <g clip-path=\"url(#pce4ee21353)\">\r\n    <image height=\"218\" id=\"image978957e5d8\" transform=\"scale(1 -1)translate(0 -218)\" width=\"218\" x=\"26.925\" xlink:href=\"data:image/png;base64,\r\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\" y=\"-6.64\"/>\r\n   </g>\r\n   <g id=\"matplotlib.axis_1\">\r\n    <g id=\"xtick_1\">\r\n     <g id=\"line2d_1\">\r\n      <defs>\r\n       <path d=\"M 0 0 \r\nL 0 3.5 \r\n\" id=\"m4102ce8b1f\" style=\"stroke:#000000;stroke-width:0.8;\"/>\r\n      </defs>\r\n      <g>\r\n       <use style=\"stroke:#000000;stroke-width:0.8;\" x=\"30.807857\" xlink:href=\"#m4102ce8b1f\" y=\"224.64\"/>\r\n      </g>\r\n     </g>\r\n     <g id=\"text_1\">\r\n      <!-- 0 -->\r\n      <g transform=\"translate(27.626607 239.238437)scale(0.1 -0.1)\">\r\n       <defs>\r\n        <path d=\"M 31.78125 66.40625 \r\nQ 24.171875 66.40625 20.328125 58.90625 \r\nQ 16.5 51.421875 16.5 36.375 \r\nQ 16.5 21.390625 20.328125 13.890625 \r\nQ 24.171875 6.390625 31.78125 6.390625 \r\nQ 39.453125 6.390625 43.28125 13.890625 \r\nQ 47.125 21.390625 47.125 36.375 \r\nQ 47.125 51.421875 43.28125 58.90625 \r\nQ 39.453125 66.40625 31.78125 66.40625 \r\nz\r\nM 31.78125 74.21875 \r\nQ 44.046875 74.21875 50.515625 64.515625 \r\nQ 56.984375 54.828125 56.984375 36.375 \r\nQ 56.984375 17.96875 50.515625 8.265625 \r\nQ 44.046875 -1.421875 31.78125 -1.421875 \r\nQ 19.53125 -1.421875 13.0625 8.265625 \r\nQ 6.59375 17.96875 6.59375 36.375 \r\nQ 6.59375 54.828125 13.0625 64.515625 \r\nQ 19.53125 74.21875 31.78125 74.21875 \r\nz\r\n\" id=\"DejaVuSans-48\"/>\r\n       </defs>\r\n       <use xlink:href=\"#DejaVuSans-48\"/>\r\n      </g>\r\n     </g>\r\n    </g>\r\n    <g id=\"xtick_2\">\r\n     <g id=\"line2d_2\">\r\n      <g>\r\n       <use style=\"stroke:#000000;stroke-width:0.8;\" x=\"69.636429\" xlink:href=\"#m4102ce8b1f\" y=\"224.64\"/>\r\n      </g>\r\n     </g>\r\n     <g id=\"text_2\">\r\n      <!-- 5 -->\r\n      <g transform=\"translate(66.455179 239.238437)scale(0.1 -0.1)\">\r\n       <defs>\r\n        <path d=\"M 10.796875 72.90625 \r\nL 49.515625 72.90625 \r\nL 49.515625 64.59375 \r\nL 19.828125 64.59375 \r\nL 19.828125 46.734375 \r\nQ 21.96875 47.46875 24.109375 47.828125 \r\nQ 26.265625 48.1875 28.421875 48.1875 \r\nQ 40.625 48.1875 47.75 41.5 \r\nQ 54.890625 34.8125 54.890625 23.390625 \r\nQ 54.890625 11.625 47.5625 5.09375 \r\nQ 40.234375 -1.421875 26.90625 -1.421875 \r\nQ 22.3125 -1.421875 17.546875 -0.640625 \r\nQ 12.796875 0.140625 7.71875 1.703125 \r\nL 7.71875 11.625 \r\nQ 12.109375 9.234375 16.796875 8.0625 \r\nQ 21.484375 6.890625 26.703125 6.890625 \r\nQ 35.15625 6.890625 40.078125 11.328125 \r\nQ 45.015625 15.765625 45.015625 23.390625 \r\nQ 45.015625 31 40.078125 35.4375 \r\nQ 35.15625 39.890625 26.703125 39.890625 \r\nQ 22.75 39.890625 18.8125 39.015625 \r\nQ 14.890625 38.140625 10.796875 36.28125 \r\nz\r\n\" id=\"DejaVuSans-53\"/>\r\n       </defs>\r\n       <use xlink:href=\"#DejaVuSans-53\"/>\r\n      </g>\r\n     </g>\r\n    </g>\r\n    <g id=\"xtick_3\">\r\n     <g id=\"line2d_3\">\r\n      <g>\r\n       <use style=\"stroke:#000000;stroke-width:0.8;\" x=\"108.465\" xlink:href=\"#m4102ce8b1f\" y=\"224.64\"/>\r\n      </g>\r\n     </g>\r\n     <g id=\"text_3\">\r\n      <!-- 10 -->\r\n      <g transform=\"translate(102.1025 239.238437)scale(0.1 -0.1)\">\r\n       <defs>\r\n        <path d=\"M 12.40625 8.296875 \r\nL 28.515625 8.296875 \r\nL 28.515625 63.921875 \r\nL 10.984375 60.40625 \r\nL 10.984375 69.390625 \r\nL 28.421875 72.90625 \r\nL 38.28125 72.90625 \r\nL 38.28125 8.296875 \r\nL 54.390625 8.296875 \r\nL 54.390625 0 \r\nL 12.40625 0 \r\nz\r\n\" id=\"DejaVuSans-49\"/>\r\n       </defs>\r\n       <use xlink:href=\"#DejaVuSans-49\"/>\r\n       <use x=\"63.623047\" xlink:href=\"#DejaVuSans-48\"/>\r\n      </g>\r\n     </g>\r\n    </g>\r\n    <g id=\"xtick_4\">\r\n     <g id=\"line2d_4\">\r\n      <g>\r\n       <use style=\"stroke:#000000;stroke-width:0.8;\" x=\"147.293571\" xlink:href=\"#m4102ce8b1f\" y=\"224.64\"/>\r\n      </g>\r\n     </g>\r\n     <g id=\"text_4\">\r\n      <!-- 15 -->\r\n      <g transform=\"translate(140.931071 239.238437)scale(0.1 -0.1)\">\r\n       <use xlink:href=\"#DejaVuSans-49\"/>\r\n       <use x=\"63.623047\" xlink:href=\"#DejaVuSans-53\"/>\r\n      </g>\r\n     </g>\r\n    </g>\r\n    <g id=\"xtick_5\">\r\n     <g id=\"line2d_5\">\r\n      <g>\r\n       <use style=\"stroke:#000000;stroke-width:0.8;\" x=\"186.122143\" xlink:href=\"#m4102ce8b1f\" y=\"224.64\"/>\r\n      </g>\r\n     </g>\r\n     <g id=\"text_5\">\r\n      <!-- 20 -->\r\n      <g transform=\"translate(179.759643 239.238437)scale(0.1 -0.1)\">\r\n       <defs>\r\n        <path d=\"M 19.1875 8.296875 \r\nL 53.609375 8.296875 \r\nL 53.609375 0 \r\nL 7.328125 0 \r\nL 7.328125 8.296875 \r\nQ 12.9375 14.109375 22.625 23.890625 \r\nQ 32.328125 33.6875 34.8125 36.53125 \r\nQ 39.546875 41.84375 41.421875 45.53125 \r\nQ 43.3125 49.21875 43.3125 52.78125 \r\nQ 43.3125 58.59375 39.234375 62.25 \r\nQ 35.15625 65.921875 28.609375 65.921875 \r\nQ 23.96875 65.921875 18.8125 64.3125 \r\nQ 13.671875 62.703125 7.8125 59.421875 \r\nL 7.8125 69.390625 \r\nQ 13.765625 71.78125 18.9375 73 \r\nQ 24.125 74.21875 28.421875 74.21875 \r\nQ 39.75 74.21875 46.484375 68.546875 \r\nQ 53.21875 62.890625 53.21875 53.421875 \r\nQ 53.21875 48.921875 51.53125 44.890625 \r\nQ 49.859375 40.875 45.40625 35.40625 \r\nQ 44.1875 33.984375 37.640625 27.21875 \r\nQ 31.109375 20.453125 19.1875 8.296875 \r\nz\r\n\" id=\"DejaVuSans-50\"/>\r\n       </defs>\r\n       <use xlink:href=\"#DejaVuSans-50\"/>\r\n       <use x=\"63.623047\" xlink:href=\"#DejaVuSans-48\"/>\r\n      </g>\r\n     </g>\r\n    </g>\r\n    <g id=\"xtick_6\">\r\n     <g id=\"line2d_6\">\r\n      <g>\r\n       <use style=\"stroke:#000000;stroke-width:0.8;\" x=\"224.950714\" xlink:href=\"#m4102ce8b1f\" y=\"224.64\"/>\r\n      </g>\r\n     </g>\r\n     <g id=\"text_6\">\r\n      <!-- 25 -->\r\n      <g transform=\"translate(218.588214 239.238437)scale(0.1 -0.1)\">\r\n       <use xlink:href=\"#DejaVuSans-50\"/>\r\n       <use x=\"63.623047\" xlink:href=\"#DejaVuSans-53\"/>\r\n      </g>\r\n     </g>\r\n    </g>\r\n   </g>\r\n   <g id=\"matplotlib.axis_2\">\r\n    <g id=\"ytick_1\">\r\n     <g id=\"line2d_7\">\r\n      <defs>\r\n       <path d=\"M 0 0 \r\nL -3.5 0 \r\n\" id=\"m06f99371d1\" style=\"stroke:#000000;stroke-width:0.8;\"/>\r\n      </defs>\r\n      <g>\r\n       <use style=\"stroke:#000000;stroke-width:0.8;\" x=\"26.925\" xlink:href=\"#m06f99371d1\" y=\"11.082857\"/>\r\n      </g>\r\n     </g>\r\n     <g id=\"text_7\">\r\n      <!-- 0 -->\r\n      <g transform=\"translate(13.5625 14.882076)scale(0.1 -0.1)\">\r\n       <use xlink:href=\"#DejaVuSans-48\"/>\r\n      </g>\r\n     </g>\r\n    </g>\r\n    <g id=\"ytick_2\">\r\n     <g id=\"line2d_8\">\r\n      <g>\r\n       <use style=\"stroke:#000000;stroke-width:0.8;\" x=\"26.925\" xlink:href=\"#m06f99371d1\" y=\"49.911429\"/>\r\n      </g>\r\n     </g>\r\n     <g id=\"text_8\">\r\n      <!-- 5 -->\r\n      <g transform=\"translate(13.5625 53.710647)scale(0.1 -0.1)\">\r\n       <use xlink:href=\"#DejaVuSans-53\"/>\r\n      </g>\r\n     </g>\r\n    </g>\r\n    <g id=\"ytick_3\">\r\n     <g id=\"line2d_9\">\r\n      <g>\r\n       <use style=\"stroke:#000000;stroke-width:0.8;\" x=\"26.925\" xlink:href=\"#m06f99371d1\" y=\"88.74\"/>\r\n      </g>\r\n     </g>\r\n     <g id=\"text_9\">\r\n      <!-- 10 -->\r\n      <g transform=\"translate(7.2 92.539219)scale(0.1 -0.1)\">\r\n       <use xlink:href=\"#DejaVuSans-49\"/>\r\n       <use x=\"63.623047\" xlink:href=\"#DejaVuSans-48\"/>\r\n      </g>\r\n     </g>\r\n    </g>\r\n    <g id=\"ytick_4\">\r\n     <g id=\"line2d_10\">\r\n      <g>\r\n       <use style=\"stroke:#000000;stroke-width:0.8;\" x=\"26.925\" xlink:href=\"#m06f99371d1\" y=\"127.568571\"/>\r\n      </g>\r\n     </g>\r\n     <g id=\"text_10\">\r\n      <!-- 15 -->\r\n      <g transform=\"translate(7.2 131.36779)scale(0.1 -0.1)\">\r\n       <use xlink:href=\"#DejaVuSans-49\"/>\r\n       <use x=\"63.623047\" xlink:href=\"#DejaVuSans-53\"/>\r\n      </g>\r\n     </g>\r\n    </g>\r\n    <g id=\"ytick_5\">\r\n     <g id=\"line2d_11\">\r\n      <g>\r\n       <use style=\"stroke:#000000;stroke-width:0.8;\" x=\"26.925\" xlink:href=\"#m06f99371d1\" y=\"166.397143\"/>\r\n      </g>\r\n     </g>\r\n     <g id=\"text_11\">\r\n      <!-- 20 -->\r\n      <g transform=\"translate(7.2 170.196362)scale(0.1 -0.1)\">\r\n       <use xlink:href=\"#DejaVuSans-50\"/>\r\n       <use x=\"63.623047\" xlink:href=\"#DejaVuSans-48\"/>\r\n      </g>\r\n     </g>\r\n    </g>\r\n    <g id=\"ytick_6\">\r\n     <g id=\"line2d_12\">\r\n      <g>\r\n       <use style=\"stroke:#000000;stroke-width:0.8;\" x=\"26.925\" xlink:href=\"#m06f99371d1\" y=\"205.225714\"/>\r\n      </g>\r\n     </g>\r\n     <g id=\"text_12\">\r\n      <!-- 25 -->\r\n      <g transform=\"translate(7.2 209.024933)scale(0.1 -0.1)\">\r\n       <use xlink:href=\"#DejaVuSans-50\"/>\r\n       <use x=\"63.623047\" xlink:href=\"#DejaVuSans-53\"/>\r\n      </g>\r\n     </g>\r\n    </g>\r\n   </g>\r\n   <g id=\"patch_3\">\r\n    <path d=\"M 26.925 224.64 \r\nL 26.925 7.2 \r\n\" style=\"fill:none;stroke:#000000;stroke-linecap:square;stroke-linejoin:miter;stroke-width:0.8;\"/>\r\n   </g>\r\n   <g id=\"patch_4\">\r\n    <path d=\"M 244.365 224.64 \r\nL 244.365 7.2 \r\n\" style=\"fill:none;stroke:#000000;stroke-linecap:square;stroke-linejoin:miter;stroke-width:0.8;\"/>\r\n   </g>\r\n   <g id=\"patch_5\">\r\n    <path d=\"M 26.925 224.64 \r\nL 244.365 224.64 \r\n\" style=\"fill:none;stroke:#000000;stroke-linecap:square;stroke-linejoin:miter;stroke-width:0.8;\"/>\r\n   </g>\r\n   <g id=\"patch_6\">\r\n    <path d=\"M 26.925 7.2 \r\nL 244.365 7.2 \r\n\" style=\"fill:none;stroke:#000000;stroke-linecap:square;stroke-linejoin:miter;stroke-width:0.8;\"/>\r\n   </g>\r\n  </g>\r\n </g>\r\n <defs>\r\n  <clipPath id=\"pce4ee21353\">\r\n   <rect height=\"217.44\" width=\"217.44\" x=\"26.925\" y=\"7.2\"/>\r\n  </clipPath>\r\n </defs>\r\n</svg>\r\n",
      "image/png": "[encoded data removed]"
     },
     "metadata": {
      "needs_background": "light"
     }
    }
   ],
   "source": [
    "# Afficher la première image \n",
    "digit = X[0].reshape(28, 28)\n",
    "plt.imshow(digit, cmap=plt.cm.gray_r)\n",
    "\n",
    "#  Afficher la classe de cette instance\n",
    "y[0]"
   ]
  },
  {
   "cell_type": "code",
   "execution_count": 109,
   "metadata": {},
   "outputs": [
    {
     "output_type": "execute_result",
     "data": {
      "text/plain": [
       "str"
      ]
     },
     "metadata": {},
     "execution_count": 109
    }
   ],
   "source": [
    "# Afficher le type des classes\n",
    "type(y[0])"
   ]
  },
  {
   "cell_type": "code",
   "execution_count": 110,
   "metadata": {},
   "outputs": [
    {
     "output_type": "execute_result",
     "data": {
      "text/plain": [
       "array([5, 0, 4, 1, 9, 2, 1, 3, 1, 4], dtype=uint8)"
      ]
     },
     "metadata": {},
     "execution_count": 110
    }
   ],
   "source": [
    "# Changer le type pour passer de str à int\n",
    "y = y.astype(np.uint8)\n",
    "y[:10]"
   ]
  },
  {
   "source": [
    "### 1.3 - Répartition des données"
   ],
   "cell_type": "markdown",
   "metadata": {}
  },
  {
   "cell_type": "code",
   "execution_count": 194,
   "metadata": {},
   "outputs": [],
   "source": [
    "# Separer le dataset en train et test\n",
    "X_train, X_test, y_train, y_test = X[:60000], X[60000:], y[:60000], y[60000:]"
   ]
  },
  {
   "source": [
    "## 2 -  Apprentissage d’un classifieur binaire\n",
    "\n",
    "### 2.1 - Apprentissage des données"
   ],
   "cell_type": "markdown",
   "metadata": {}
  },
  {
   "cell_type": "code",
   "execution_count": 112,
   "metadata": {},
   "outputs": [],
   "source": [
    "from sklearn.linear_model import SGDClassifier\n",
    "from sklearn.model_selection import cross_val_score, cross_val_predict"
   ]
  },
  {
   "cell_type": "code",
   "execution_count": 113,
   "metadata": {},
   "outputs": [],
   "source": [
    "# Créer les matrices booléennes en fonction de 5 \n",
    "bool_5_test = y_test == 5\n",
    "bool_5_train = y_train == 5"
   ]
  },
  {
   "source": [
    "# Créer le modèle\n",
    "model = SGDClassifier().fit(X_train, bool_5_train)"
   ],
   "cell_type": "code",
   "metadata": {},
   "execution_count": 114,
   "outputs": []
  },
  {
   "cell_type": "code",
   "execution_count": 115,
   "metadata": {},
   "outputs": [
    {
     "output_type": "execute_result",
     "data": {
      "text/plain": [
       "0.9664"
      ]
     },
     "metadata": {},
     "execution_count": 115
    }
   ],
   "source": [
    "# Afficher le score du modèle\n",
    "model.score(X_test, bool_5_test)"
   ]
  },
  {
   "source": [
    "### 2.2 - Évaluation du modèle d’apprentissage sur les données d’apprentissage\n",
    "\n",
    "#### 2.2.1 - Taux de classification"
   ],
   "cell_type": "markdown",
   "metadata": {}
  },
  {
   "cell_type": "code",
   "execution_count": 116,
   "metadata": {},
   "outputs": [
    {
     "output_type": "stream",
     "name": "stdout",
     "text": [
      "Scores des modèles:  [0.95440912 0.96039604 0.95889589]\nScore moyen des modèles:  0.9579003491230947\n"
     ]
    }
   ],
   "source": [
    "# Création de plusieurs modèles avec cross_val_score\n",
    "scores = cross_val_score(model, X_test, bool_5_test, cv=3, scoring='accuracy')\n",
    "print('Scores des modèles: ', scores)\n",
    "print('Score moyen des modèles: ', scores.mean())"
   ]
  },
  {
   "cell_type": "code",
   "execution_count": 117,
   "metadata": {},
   "outputs": [],
   "source": [
    "from sklearn.base import BaseEstimator\n",
    "\n",
    "# Créer la class Never5Classifier\n",
    "class Never5Classifier(BaseEstimator):\n",
    "    def fit(self, X, y):\n",
    "        pass\n",
    "    \n",
    "    def predict(self, X):\n",
    "        return np.zeros((len(X), 1), dtype=bool)"
   ]
  },
  {
   "cell_type": "code",
   "execution_count": 118,
   "metadata": {},
   "outputs": [
    {
     "output_type": "stream",
     "name": "stdout",
     "text": [
      "Scores des modèles:  [0.90791842 0.91029103 0.91419142]\nScore moyen des modèles:  0.9108002881871871\n"
     ]
    }
   ],
   "source": [
    "# Créer une instance\n",
    "classifier = Never5Classifier()\n",
    "# Afficher le score de chaque modèle\n",
    "scores = cross_val_score(classifier, X_test, bool_5_test, cv=3, scoring='accuracy')\n",
    "print('Scores des modèles: ', scores)\n",
    "print('Score moyen des modèles: ', scores.mean())"
   ]
  },
  {
   "source": [
    "#### 2.2.2 - Matrice de confusion:"
   ],
   "cell_type": "markdown",
   "metadata": {}
  },
  {
   "cell_type": "code",
   "execution_count": 119,
   "metadata": {},
   "outputs": [
    {
     "output_type": "execute_result",
     "data": {
      "text/plain": [
       "array([False, False, False, ..., False,  True, False])"
      ]
     },
     "metadata": {},
     "execution_count": 119
    }
   ],
   "source": [
    "y_pred = cross_val_predict(model, X_test, bool_5_test, cv=3)\n",
    "y_pred"
   ]
  },
  {
   "cell_type": "code",
   "execution_count": 120,
   "metadata": {},
   "outputs": [
    {
     "output_type": "stream",
     "name": "stdout",
     "text": [
      "Vrais positifs:  661\nVrais négatifs:  8895\nFaux positifs:  213\nFaux négatifs:  213\n"
     ]
    }
   ],
   "source": [
    "from sklearn.metrics import confusion_matrix\n",
    "\n",
    "# Afficher la matrice de confusion\n",
    "vn, fp, fn, vp = confusion_matrix(bool_5_test, y_pred).ravel()\n",
    "print(\"Vrais positifs: \", vp)\n",
    "print(\"Vrais négatifs: \", vn)\n",
    "print(\"Faux positifs: \", fp)\n",
    "print(\"Faux négatifs: \", fp)"
   ]
  },
  {
   "source": [
    "#### 2.2.3 - Précision et rappel:"
   ],
   "cell_type": "markdown",
   "metadata": {}
  },
  {
   "cell_type": "code",
   "execution_count": 150,
   "metadata": {},
   "outputs": [],
   "source": [
    "from sklearn.metrics import f1_score, recall_score, precision_score, precision_recall_curve, roc_curve, roc_auc_score"
   ]
  },
  {
   "cell_type": "code",
   "execution_count": 131,
   "metadata": {},
   "outputs": [
    {
     "output_type": "stream",
     "name": "stdout",
     "text": [
      "F1 score: 0.75\nPrecision score: 0.76\nRecall score: 0.74\n"
     ]
    }
   ],
   "source": [
    "print(\"F1 score: {0:0.2f}\".format(f1_score(bool_5_test, y_pred)))\n",
    "print(\"Precision score: {0:0.2f}\".format(precision_score(bool_5_test, y_pred)))\n",
    "print(\"Recall score: {0:0.2f}\".format(recall_score(bool_5_test, y_pred)))"
   ]
  },
  {
   "cell_type": "code",
   "execution_count": 132,
   "metadata": {},
   "outputs": [
    {
     "output_type": "execute_result",
     "data": {
      "text/plain": [
       "array([-252318.3875591 ,  -93811.97115183, -179279.12460732, ...,\n",
       "       -246459.63864746,   65787.78213525, -569006.03867275])"
      ]
     },
     "metadata": {},
     "execution_count": 132
    }
   ],
   "source": [
    "y_pred = cross_val_predict(model, X_test, bool_5_test, cv=3, method=\"decision_function\")"
   ]
  },
  {
   "cell_type": "code",
   "execution_count": 142,
   "metadata": {},
   "outputs": [],
   "source": [
    "precision, recall, thresholds = precision_recall_curve(bool_5_test, y_pred)"
   ]
  },
  {
   "cell_type": "code",
   "execution_count": 137,
   "metadata": {},
   "outputs": [
    {
     "output_type": "execute_result",
     "data": {
      "text/plain": [
       "[<matplotlib.lines.Line2D at 0x23e1a7ce220>]"
      ]
     },
     "metadata": {},
     "execution_count": 137
    },
    {
     "output_type": "display_data",
     "data": {
      "text/plain": "<Figure size 432x288 with 1 Axes>",
      "image/svg+xml": "<?xml version=\"1.0\" encoding=\"utf-8\" standalone=\"no\"?>\r\n<!DOCTYPE svg PUBLIC \"-//W3C//DTD SVG 1.1//EN\"\r\n  \"http://www.w3.org/Graphics/SVG/1.1/DTD/svg11.dtd\">\r\n<!-- Created with matplotlib (https://matplotlib.org/) -->\r\n<svg height=\"248.518125pt\" version=\"1.1\" viewBox=\"0 0 372.103125 248.518125\" width=\"372.103125pt\" xmlns=\"http://www.w3.org/2000/svg\" xmlns:xlink=\"http://www.w3.org/1999/xlink\">\r\n <metadata>\r\n  <rdf:RDF xmlns:cc=\"http://creativecommons.org/ns#\" xmlns:dc=\"http://purl.org/dc/elements/1.1/\" xmlns:rdf=\"http://www.w3.org/1999/02/22-rdf-syntax-ns#\">\r\n   <cc:Work>\r\n    <dc:type rdf:resource=\"http://purl.org/dc/dcmitype/StillImage\"/>\r\n    <dc:date>2020-12-17T15:15:23.121372</dc:date>\r\n    <dc:format>image/svg+xml</dc:format>\r\n    <dc:creator>\r\n     <cc:Agent>\r\n      <dc:title>Matplotlib v3.3.2, https://matplotlib.org/</dc:title>\r\n     </cc:Agent>\r\n    </dc:creator>\r\n   </cc:Work>\r\n  </rdf:RDF>\r\n </metadata>\r\n <defs>\r\n  <style type=\"text/css\">*{stroke-linecap:butt;stroke-linejoin:round;}</style>\r\n </defs>\r\n <g id=\"figure_1\">\r\n  <g id=\"patch_1\">\r\n   <path d=\"M 0 248.518125 \r\nL 372.103125 248.518125 \r\nL 372.103125 0 \r\nL 0 0 \r\nz\r\n\" style=\"fill:none;\"/>\r\n  </g>\r\n  <g id=\"axes_1\">\r\n   <g id=\"patch_2\">\r\n    <path d=\"M 30.103125 224.64 \r\nL 364.903125 224.64 \r\nL 364.903125 7.2 \r\nL 30.103125 7.2 \r\nz\r\n\" style=\"fill:#ffffff;\"/>\r\n   </g>\r\n   <g id=\"matplotlib.axis_1\">\r\n    <g id=\"xtick_1\">\r\n     <g id=\"line2d_1\">\r\n      <defs>\r\n       <path d=\"M 0 0 \r\nL 0 3.5 \r\n\" id=\"m968d44b11e\" style=\"stroke:#000000;stroke-width:0.8;\"/>\r\n      </defs>\r\n      <g>\r\n       <use style=\"stroke:#000000;stroke-width:0.8;\" x=\"45.321307\" xlink:href=\"#m968d44b11e\" y=\"224.64\"/>\r\n      </g>\r\n     </g>\r\n     <g id=\"text_1\">\r\n      <!-- 0.0 -->\r\n      <g transform=\"translate(37.369744 239.238437)scale(0.1 -0.1)\">\r\n       <defs>\r\n        <path d=\"M 31.78125 66.40625 \r\nQ 24.171875 66.40625 20.328125 58.90625 \r\nQ 16.5 51.421875 16.5 36.375 \r\nQ 16.5 21.390625 20.328125 13.890625 \r\nQ 24.171875 6.390625 31.78125 6.390625 \r\nQ 39.453125 6.390625 43.28125 13.890625 \r\nQ 47.125 21.390625 47.125 36.375 \r\nQ 47.125 51.421875 43.28125 58.90625 \r\nQ 39.453125 66.40625 31.78125 66.40625 \r\nz\r\nM 31.78125 74.21875 \r\nQ 44.046875 74.21875 50.515625 64.515625 \r\nQ 56.984375 54.828125 56.984375 36.375 \r\nQ 56.984375 17.96875 50.515625 8.265625 \r\nQ 44.046875 -1.421875 31.78125 -1.421875 \r\nQ 19.53125 -1.421875 13.0625 8.265625 \r\nQ 6.59375 17.96875 6.59375 36.375 \r\nQ 6.59375 54.828125 13.0625 64.515625 \r\nQ 19.53125 74.21875 31.78125 74.21875 \r\nz\r\n\" id=\"DejaVuSans-48\"/>\r\n        <path d=\"M 10.6875 12.40625 \r\nL 21 12.40625 \r\nL 21 0 \r\nL 10.6875 0 \r\nz\r\n\" id=\"DejaVuSans-46\"/>\r\n       </defs>\r\n       <use xlink:href=\"#DejaVuSans-48\"/>\r\n       <use x=\"63.623047\" xlink:href=\"#DejaVuSans-46\"/>\r\n       <use x=\"95.410156\" xlink:href=\"#DejaVuSans-48\"/>\r\n      </g>\r\n     </g>\r\n    </g>\r\n    <g id=\"xtick_2\">\r\n     <g id=\"line2d_2\">\r\n      <g>\r\n       <use style=\"stroke:#000000;stroke-width:0.8;\" x=\"106.194034\" xlink:href=\"#m968d44b11e\" y=\"224.64\"/>\r\n      </g>\r\n     </g>\r\n     <g id=\"text_2\">\r\n      <!-- 0.2 -->\r\n      <g transform=\"translate(98.242472 239.238437)scale(0.1 -0.1)\">\r\n       <defs>\r\n        <path d=\"M 19.1875 8.296875 \r\nL 53.609375 8.296875 \r\nL 53.609375 0 \r\nL 7.328125 0 \r\nL 7.328125 8.296875 \r\nQ 12.9375 14.109375 22.625 23.890625 \r\nQ 32.328125 33.6875 34.8125 36.53125 \r\nQ 39.546875 41.84375 41.421875 45.53125 \r\nQ 43.3125 49.21875 43.3125 52.78125 \r\nQ 43.3125 58.59375 39.234375 62.25 \r\nQ 35.15625 65.921875 28.609375 65.921875 \r\nQ 23.96875 65.921875 18.8125 64.3125 \r\nQ 13.671875 62.703125 7.8125 59.421875 \r\nL 7.8125 69.390625 \r\nQ 13.765625 71.78125 18.9375 73 \r\nQ 24.125 74.21875 28.421875 74.21875 \r\nQ 39.75 74.21875 46.484375 68.546875 \r\nQ 53.21875 62.890625 53.21875 53.421875 \r\nQ 53.21875 48.921875 51.53125 44.890625 \r\nQ 49.859375 40.875 45.40625 35.40625 \r\nQ 44.1875 33.984375 37.640625 27.21875 \r\nQ 31.109375 20.453125 19.1875 8.296875 \r\nz\r\n\" id=\"DejaVuSans-50\"/>\r\n       </defs>\r\n       <use xlink:href=\"#DejaVuSans-48\"/>\r\n       <use x=\"63.623047\" xlink:href=\"#DejaVuSans-46\"/>\r\n       <use x=\"95.410156\" xlink:href=\"#DejaVuSans-50\"/>\r\n      </g>\r\n     </g>\r\n    </g>\r\n    <g id=\"xtick_3\">\r\n     <g id=\"line2d_3\">\r\n      <g>\r\n       <use style=\"stroke:#000000;stroke-width:0.8;\" x=\"167.066761\" xlink:href=\"#m968d44b11e\" y=\"224.64\"/>\r\n      </g>\r\n     </g>\r\n     <g id=\"text_3\">\r\n      <!-- 0.4 -->\r\n      <g transform=\"translate(159.115199 239.238437)scale(0.1 -0.1)\">\r\n       <defs>\r\n        <path d=\"M 37.796875 64.3125 \r\nL 12.890625 25.390625 \r\nL 37.796875 25.390625 \r\nz\r\nM 35.203125 72.90625 \r\nL 47.609375 72.90625 \r\nL 47.609375 25.390625 \r\nL 58.015625 25.390625 \r\nL 58.015625 17.1875 \r\nL 47.609375 17.1875 \r\nL 47.609375 0 \r\nL 37.796875 0 \r\nL 37.796875 17.1875 \r\nL 4.890625 17.1875 \r\nL 4.890625 26.703125 \r\nz\r\n\" id=\"DejaVuSans-52\"/>\r\n       </defs>\r\n       <use xlink:href=\"#DejaVuSans-48\"/>\r\n       <use x=\"63.623047\" xlink:href=\"#DejaVuSans-46\"/>\r\n       <use x=\"95.410156\" xlink:href=\"#DejaVuSans-52\"/>\r\n      </g>\r\n     </g>\r\n    </g>\r\n    <g id=\"xtick_4\">\r\n     <g id=\"line2d_4\">\r\n      <g>\r\n       <use style=\"stroke:#000000;stroke-width:0.8;\" x=\"227.939489\" xlink:href=\"#m968d44b11e\" y=\"224.64\"/>\r\n      </g>\r\n     </g>\r\n     <g id=\"text_4\">\r\n      <!-- 0.6 -->\r\n      <g transform=\"translate(219.987926 239.238437)scale(0.1 -0.1)\">\r\n       <defs>\r\n        <path d=\"M 33.015625 40.375 \r\nQ 26.375 40.375 22.484375 35.828125 \r\nQ 18.609375 31.296875 18.609375 23.390625 \r\nQ 18.609375 15.53125 22.484375 10.953125 \r\nQ 26.375 6.390625 33.015625 6.390625 \r\nQ 39.65625 6.390625 43.53125 10.953125 \r\nQ 47.40625 15.53125 47.40625 23.390625 \r\nQ 47.40625 31.296875 43.53125 35.828125 \r\nQ 39.65625 40.375 33.015625 40.375 \r\nz\r\nM 52.59375 71.296875 \r\nL 52.59375 62.3125 \r\nQ 48.875 64.0625 45.09375 64.984375 \r\nQ 41.3125 65.921875 37.59375 65.921875 \r\nQ 27.828125 65.921875 22.671875 59.328125 \r\nQ 17.53125 52.734375 16.796875 39.40625 \r\nQ 19.671875 43.65625 24.015625 45.921875 \r\nQ 28.375 48.1875 33.59375 48.1875 \r\nQ 44.578125 48.1875 50.953125 41.515625 \r\nQ 57.328125 34.859375 57.328125 23.390625 \r\nQ 57.328125 12.15625 50.6875 5.359375 \r\nQ 44.046875 -1.421875 33.015625 -1.421875 \r\nQ 20.359375 -1.421875 13.671875 8.265625 \r\nQ 6.984375 17.96875 6.984375 36.375 \r\nQ 6.984375 53.65625 15.1875 63.9375 \r\nQ 23.390625 74.21875 37.203125 74.21875 \r\nQ 40.921875 74.21875 44.703125 73.484375 \r\nQ 48.484375 72.75 52.59375 71.296875 \r\nz\r\n\" id=\"DejaVuSans-54\"/>\r\n       </defs>\r\n       <use xlink:href=\"#DejaVuSans-48\"/>\r\n       <use x=\"63.623047\" xlink:href=\"#DejaVuSans-46\"/>\r\n       <use x=\"95.410156\" xlink:href=\"#DejaVuSans-54\"/>\r\n      </g>\r\n     </g>\r\n    </g>\r\n    <g id=\"xtick_5\">\r\n     <g id=\"line2d_5\">\r\n      <g>\r\n       <use style=\"stroke:#000000;stroke-width:0.8;\" x=\"288.812216\" xlink:href=\"#m968d44b11e\" y=\"224.64\"/>\r\n      </g>\r\n     </g>\r\n     <g id=\"text_5\">\r\n      <!-- 0.8 -->\r\n      <g transform=\"translate(280.860653 239.238437)scale(0.1 -0.1)\">\r\n       <defs>\r\n        <path d=\"M 31.78125 34.625 \r\nQ 24.75 34.625 20.71875 30.859375 \r\nQ 16.703125 27.09375 16.703125 20.515625 \r\nQ 16.703125 13.921875 20.71875 10.15625 \r\nQ 24.75 6.390625 31.78125 6.390625 \r\nQ 38.8125 6.390625 42.859375 10.171875 \r\nQ 46.921875 13.96875 46.921875 20.515625 \r\nQ 46.921875 27.09375 42.890625 30.859375 \r\nQ 38.875 34.625 31.78125 34.625 \r\nz\r\nM 21.921875 38.8125 \r\nQ 15.578125 40.375 12.03125 44.71875 \r\nQ 8.5 49.078125 8.5 55.328125 \r\nQ 8.5 64.0625 14.71875 69.140625 \r\nQ 20.953125 74.21875 31.78125 74.21875 \r\nQ 42.671875 74.21875 48.875 69.140625 \r\nQ 55.078125 64.0625 55.078125 55.328125 \r\nQ 55.078125 49.078125 51.53125 44.71875 \r\nQ 48 40.375 41.703125 38.8125 \r\nQ 48.828125 37.15625 52.796875 32.3125 \r\nQ 56.78125 27.484375 56.78125 20.515625 \r\nQ 56.78125 9.90625 50.3125 4.234375 \r\nQ 43.84375 -1.421875 31.78125 -1.421875 \r\nQ 19.734375 -1.421875 13.25 4.234375 \r\nQ 6.78125 9.90625 6.78125 20.515625 \r\nQ 6.78125 27.484375 10.78125 32.3125 \r\nQ 14.796875 37.15625 21.921875 38.8125 \r\nz\r\nM 18.3125 54.390625 \r\nQ 18.3125 48.734375 21.84375 45.5625 \r\nQ 25.390625 42.390625 31.78125 42.390625 \r\nQ 38.140625 42.390625 41.71875 45.5625 \r\nQ 45.3125 48.734375 45.3125 54.390625 \r\nQ 45.3125 60.0625 41.71875 63.234375 \r\nQ 38.140625 66.40625 31.78125 66.40625 \r\nQ 25.390625 66.40625 21.84375 63.234375 \r\nQ 18.3125 60.0625 18.3125 54.390625 \r\nz\r\n\" id=\"DejaVuSans-56\"/>\r\n       </defs>\r\n       <use xlink:href=\"#DejaVuSans-48\"/>\r\n       <use x=\"63.623047\" xlink:href=\"#DejaVuSans-46\"/>\r\n       <use x=\"95.410156\" xlink:href=\"#DejaVuSans-56\"/>\r\n      </g>\r\n     </g>\r\n    </g>\r\n    <g id=\"xtick_6\">\r\n     <g id=\"line2d_6\">\r\n      <g>\r\n       <use style=\"stroke:#000000;stroke-width:0.8;\" x=\"349.684943\" xlink:href=\"#m968d44b11e\" y=\"224.64\"/>\r\n      </g>\r\n     </g>\r\n     <g id=\"text_6\">\r\n      <!-- 1.0 -->\r\n      <g transform=\"translate(341.733381 239.238437)scale(0.1 -0.1)\">\r\n       <defs>\r\n        <path d=\"M 12.40625 8.296875 \r\nL 28.515625 8.296875 \r\nL 28.515625 63.921875 \r\nL 10.984375 60.40625 \r\nL 10.984375 69.390625 \r\nL 28.421875 72.90625 \r\nL 38.28125 72.90625 \r\nL 38.28125 8.296875 \r\nL 54.390625 8.296875 \r\nL 54.390625 0 \r\nL 12.40625 0 \r\nz\r\n\" id=\"DejaVuSans-49\"/>\r\n       </defs>\r\n       <use xlink:href=\"#DejaVuSans-49\"/>\r\n       <use x=\"63.623047\" xlink:href=\"#DejaVuSans-46\"/>\r\n       <use x=\"95.410156\" xlink:href=\"#DejaVuSans-48\"/>\r\n      </g>\r\n     </g>\r\n    </g>\r\n   </g>\r\n   <g id=\"matplotlib.axis_2\">\r\n    <g id=\"ytick_1\">\r\n     <g id=\"line2d_7\">\r\n      <defs>\r\n       <path d=\"M 0 0 \r\nL -3.5 0 \r\n\" id=\"m3d8db5ec04\" style=\"stroke:#000000;stroke-width:0.8;\"/>\r\n      </defs>\r\n      <g>\r\n       <use style=\"stroke:#000000;stroke-width:0.8;\" x=\"30.103125\" xlink:href=\"#m3d8db5ec04\" y=\"190.775535\"/>\r\n      </g>\r\n     </g>\r\n     <g id=\"text_7\">\r\n      <!-- 0.2 -->\r\n      <g transform=\"translate(7.2 194.574754)scale(0.1 -0.1)\">\r\n       <use xlink:href=\"#DejaVuSans-48\"/>\r\n       <use x=\"63.623047\" xlink:href=\"#DejaVuSans-46\"/>\r\n       <use x=\"95.410156\" xlink:href=\"#DejaVuSans-50\"/>\r\n      </g>\r\n     </g>\r\n    </g>\r\n    <g id=\"ytick_2\">\r\n     <g id=\"line2d_8\">\r\n      <g>\r\n       <use style=\"stroke:#000000;stroke-width:0.8;\" x=\"30.103125\" xlink:href=\"#m3d8db5ec04\" y=\"147.35256\"/>\r\n      </g>\r\n     </g>\r\n     <g id=\"text_8\">\r\n      <!-- 0.4 -->\r\n      <g transform=\"translate(7.2 151.151779)scale(0.1 -0.1)\">\r\n       <use xlink:href=\"#DejaVuSans-48\"/>\r\n       <use x=\"63.623047\" xlink:href=\"#DejaVuSans-46\"/>\r\n       <use x=\"95.410156\" xlink:href=\"#DejaVuSans-52\"/>\r\n      </g>\r\n     </g>\r\n    </g>\r\n    <g id=\"ytick_3\">\r\n     <g id=\"line2d_9\">\r\n      <g>\r\n       <use style=\"stroke:#000000;stroke-width:0.8;\" x=\"30.103125\" xlink:href=\"#m3d8db5ec04\" y=\"103.929586\"/>\r\n      </g>\r\n     </g>\r\n     <g id=\"text_9\">\r\n      <!-- 0.6 -->\r\n      <g transform=\"translate(7.2 107.728804)scale(0.1 -0.1)\">\r\n       <use xlink:href=\"#DejaVuSans-48\"/>\r\n       <use x=\"63.623047\" xlink:href=\"#DejaVuSans-46\"/>\r\n       <use x=\"95.410156\" xlink:href=\"#DejaVuSans-54\"/>\r\n      </g>\r\n     </g>\r\n    </g>\r\n    <g id=\"ytick_4\">\r\n     <g id=\"line2d_10\">\r\n      <g>\r\n       <use style=\"stroke:#000000;stroke-width:0.8;\" x=\"30.103125\" xlink:href=\"#m3d8db5ec04\" y=\"60.506611\"/>\r\n      </g>\r\n     </g>\r\n     <g id=\"text_10\">\r\n      <!-- 0.8 -->\r\n      <g transform=\"translate(7.2 64.30583)scale(0.1 -0.1)\">\r\n       <use xlink:href=\"#DejaVuSans-48\"/>\r\n       <use x=\"63.623047\" xlink:href=\"#DejaVuSans-46\"/>\r\n       <use x=\"95.410156\" xlink:href=\"#DejaVuSans-56\"/>\r\n      </g>\r\n     </g>\r\n    </g>\r\n    <g id=\"ytick_5\">\r\n     <g id=\"line2d_11\">\r\n      <g>\r\n       <use style=\"stroke:#000000;stroke-width:0.8;\" x=\"30.103125\" xlink:href=\"#m3d8db5ec04\" y=\"17.083636\"/>\r\n      </g>\r\n     </g>\r\n     <g id=\"text_11\">\r\n      <!-- 1.0 -->\r\n      <g transform=\"translate(7.2 20.882855)scale(0.1 -0.1)\">\r\n       <use xlink:href=\"#DejaVuSans-49\"/>\r\n       <use x=\"63.623047\" xlink:href=\"#DejaVuSans-46\"/>\r\n       <use x=\"95.410156\" xlink:href=\"#DejaVuSans-48\"/>\r\n      </g>\r\n     </g>\r\n    </g>\r\n   </g>\r\n   <g id=\"line2d_12\">\r\n    <path clip-path=\"url(#pce18a2e6dc)\" d=\"M 349.684943 214.736499 \r\nL 349.343728 214.756364 \r\nL 349.343728 214.646321 \r\nL 349.343728 214.612669 \r\nL 349.002514 214.632669 \r\nL 349.002514 214.523096 \r\nL 349.002514 214.238564 \r\nL 348.661299 214.258931 \r\nL 348.661299 214.149156 \r\nL 348.661299 214.073901 \r\nL 348.320084 214.094442 \r\nL 348.320084 213.984837 \r\nL 348.320084 213.5342 \r\nL 347.978869 213.555258 \r\nL 347.978869 213.444022 \r\nL 347.978869 213.033448 \r\nL 347.296439 213.036983 \r\nL 347.296439 212.966834 \r\nL 347.296439 211.816837 \r\nL 346.955224 211.839522 \r\nL 346.955224 211.729586 \r\nL 346.955224 211.278812 \r\nL 346.61401 211.302005 \r\nL 346.61401 211.192097 \r\nL 346.61401 209.563142 \r\nL 346.272795 209.587879 \r\nL 346.272795 209.476677 \r\nL 346.272795 209.467098 \r\nL 345.93158 209.491948 \r\nL 345.93158 209.382967 \r\nL 345.93158 208.759195 \r\nL 345.590365 208.784691 \r\nL 345.590365 208.676056 \r\nL 345.590365 208.379444 \r\nL 344.907935 208.41722 \r\nL 344.907935 208.322731 \r\nL 344.907935 207.120831 \r\nL 344.566721 207.147829 \r\nL 344.566721 207.039796 \r\nL 344.566721 206.258709 \r\nL 344.225506 206.286471 \r\nL 344.225506 206.175432 \r\nL 344.225506 205.17476 \r\nL 343.884291 205.203468 \r\nL 343.884291 205.09241 \r\nL 343.884291 204.790535 \r\nL 343.543076 204.819597 \r\nL 343.543076 204.710025 \r\nL 343.543076 204.585776 \r\nL 343.201861 204.615041 \r\nL 343.201861 204.503807 \r\nL 343.201861 202.962306 \r\nL 342.860646 202.992943 \r\nL 342.860646 202.884555 \r\nL 342.860646 202.654996 \r\nL 342.519432 202.685919 \r\nL 342.519432 202.575256 \r\nL 342.519432 201.492343 \r\nL 342.178217 201.524242 \r\nL 342.178217 201.4165 \r\nL 342.178217 199.373668 \r\nL 341.837002 199.407282 \r\nL 341.837002 199.297876 \r\nL 341.837002 199.090057 \r\nL 341.495787 199.123931 \r\nL 341.495787 199.012604 \r\nL 341.495787 198.485849 \r\nL 341.154572 198.520232 \r\nL 341.154572 198.411704 \r\nL 341.154572 198.28882 \r\nL 340.813357 198.323394 \r\nL 340.813357 198.213537 \r\nL 340.813357 198.199758 \r\nL 340.472143 198.234441 \r\nL 340.472143 198.12391 \r\nL 340.472143 197.682008 \r\nL 339.789713 197.666996 \r\nL 339.789713 197.645615 \r\nL 339.789713 197.014518 \r\nL 339.448498 197.050232 \r\nL 339.448498 196.939298 \r\nL 339.448498 196.79035 \r\nL 339.107283 196.826277 \r\nL 339.107283 196.721383 \r\nL 339.107283 195.583367 \r\nL 338.766068 195.620247 \r\nL 338.766068 195.516349 \r\nL 338.766068 195.411889 \r\nL 338.424853 195.44894 \r\nL 338.424853 195.343994 \r\nL 338.424853 195.279128 \r\nL 338.083639 195.316322 \r\nL 338.083639 195.210531 \r\nL 338.083639 194.40262 \r\nL 337.742424 194.440508 \r\nL 337.742424 194.329762 \r\nL 337.742424 192.111324 \r\nL 337.401209 192.150923 \r\nL 337.401209 192.046019 \r\nL 337.401209 191.591831 \r\nL 337.059994 191.631847 \r\nL 337.059994 191.524207 \r\nL 337.059994 187.882837 \r\nL 336.718779 187.925462 \r\nL 336.718779 187.821296 \r\nL 336.718779 187.588127 \r\nL 336.03635 187.66219 \r\nL 336.03635 187.568343 \r\nL 336.03635 186.063752 \r\nL 335.35392 186.15174 \r\nL 335.35392 186.05146 \r\nL 335.35392 185.722638 \r\nL 335.012705 185.766947 \r\nL 335.012705 185.664932 \r\nL 335.012705 185.523958 \r\nL 334.67149 185.568448 \r\nL 334.67149 185.465473 \r\nL 334.67149 183.962926 \r\nL 334.330275 184.008472 \r\nL 334.330275 183.898647 \r\nL 334.330275 181.716689 \r\nL 333.989061 181.763687 \r\nL 333.989061 181.658698 \r\nL 333.989061 181.173341 \r\nL 333.306631 181.252843 \r\nL 333.306631 181.160897 \r\nL 333.306631 179.935864 \r\nL 332.965416 179.984103 \r\nL 332.965416 179.887578 \r\nL 332.965416 179.530697 \r\nL 332.624201 179.579232 \r\nL 332.624201 179.481143 \r\nL 332.624201 176.438407 \r\nL 332.282986 176.488772 \r\nL 332.282986 176.379128 \r\nL 332.282986 174.58584 \r\nL 331.941772 174.637277 \r\nL 331.941772 174.539859 \r\nL 331.941772 174.500803 \r\nL 331.600557 174.552348 \r\nL 331.600557 174.454535 \r\nL 331.600557 174.257944 \r\nL 331.259342 174.30968 \r\nL 331.259342 174.210951 \r\nL 331.259342 173.872825 \r\nL 330.918127 173.924828 \r\nL 330.918127 173.824706 \r\nL 330.918127 173.744368 \r\nL 330.576912 173.796502 \r\nL 330.576912 173.695832 \r\nL 330.576912 173.207907 \r\nL 330.235697 173.260385 \r\nL 330.235697 173.157796 \r\nL 330.235697 172.639624 \r\nL 329.894483 172.692462 \r\nL 329.894483 172.587824 \r\nL 329.894483 172.566854 \r\nL 329.553268 172.619793 \r\nL 329.553268 172.514782 \r\nL 329.553268 172.02708 \r\nL 328.870838 172.112322 \r\nL 328.870838 172.026745 \r\nL 328.870838 172.005314 \r\nL 328.188408 172.026409 \r\nL 328.188408 172.004926 \r\nL 328.188408 170.282235 \r\nL 327.505979 170.391118 \r\nL 327.505979 170.300289 \r\nL 327.505979 168.040072 \r\nL 326.823549 168.127034 \r\nL 326.823549 168.053838 \r\nL 326.823549 167.611234 \r\nL 326.482334 167.667213 \r\nL 326.482334 167.568098 \r\nL 326.482334 167.068057 \r\nL 326.141119 167.124358 \r\nL 326.141119 167.023494 \r\nL 326.141119 165.393912 \r\nL 325.799904 165.451042 \r\nL 325.799904 165.34495 \r\nL 325.799904 163.824525 \r\nL 325.45869 163.882411 \r\nL 325.45869 163.771283 \r\nL 325.45869 163.011884 \r\nL 325.117475 163.070185 \r\nL 325.117475 162.984831 \r\nL 325.117475 161.738519 \r\nL 324.77626 161.797418 \r\nL 324.77626 161.708872 \r\nL 324.77626 161.649721 \r\nL 324.435045 161.708727 \r\nL 324.435045 161.619856 \r\nL 324.435045 161.142168 \r\nL 324.09383 161.201451 \r\nL 324.09383 161.11122 \r\nL 324.09383 160.196486 \r\nL 323.752615 160.256216 \r\nL 323.752615 160.163517 \r\nL 323.752615 159.096459 \r\nL 323.411401 159.156685 \r\nL 323.411401 159.061091 \r\nL 323.411401 158.901224 \r\nL 323.070186 158.961597 \r\nL 323.070186 158.865386 \r\nL 323.070186 157.525405 \r\nL 322.728971 157.58636 \r\nL 322.728971 157.486475 \r\nL 322.728971 155.852131 \r\nL 322.046541 155.94066 \r\nL 322.046541 155.871035 \r\nL 322.046541 155.309548 \r\nL 321.705326 155.371505 \r\nL 321.705326 155.265364 \r\nL 321.705326 154.586447 \r\nL 321.364112 154.648721 \r\nL 321.364112 154.54049 \r\nL 321.364112 154.504348 \r\nL 321.022897 154.566727 \r\nL 321.022897 154.458138 \r\nL 321.022897 151.876211 \r\nL 320.681682 151.939494 \r\nL 320.681682 151.862183 \r\nL 320.681682 151.629375 \r\nL 320.340467 151.69281 \r\nL 320.340467 151.614938 \r\nL 320.340467 148.876916 \r\nL 319.999252 148.941206 \r\nL 319.999252 148.857947 \r\nL 319.999252 148.143624 \r\nL 319.316823 148.272811 \r\nL 319.316823 148.188029 \r\nL 319.316823 147.460578 \r\nL 318.975608 147.525474 \r\nL 318.975608 147.439103 \r\nL 318.975608 146.211583 \r\nL 318.634393 146.276865 \r\nL 318.634393 146.187875 \r\nL 318.634393 146.098705 \r\nL 318.293178 146.164096 \r\nL 318.293178 146.074766 \r\nL 318.293178 143.968952 \r\nL 317.951963 144.034901 \r\nL 317.951963 143.941078 \r\nL 317.951963 142.218243 \r\nL 317.610748 142.284627 \r\nL 317.610748 142.187002 \r\nL 317.610748 141.843675 \r\nL 317.269533 141.910214 \r\nL 317.269533 141.811668 \r\nL 317.269533 141.712912 \r\nL 316.928319 141.779558 \r\nL 316.928319 141.680609 \r\nL 316.928319 141.581447 \r\nL 316.587104 141.648202 \r\nL 316.587104 141.548845 \r\nL 316.587104 140.594212 \r\nL 316.245889 140.661228 \r\nL 316.245889 140.559613 \r\nL 316.245889 140.150932 \r\nL 315.904674 140.218109 \r\nL 315.904674 140.115398 \r\nL 315.904674 136.871153 \r\nL 315.222244 136.951701 \r\nL 315.222244 136.896603 \r\nL 315.222244 135.950303 \r\nL 314.88103 136.018344 \r\nL 314.88103 135.905816 \r\nL 314.88103 134.938816 \r\nL 314.539815 135.007059 \r\nL 314.539815 134.94959 \r\nL 314.539815 134.834452 \r\nL 314.1986 134.902793 \r\nL 314.1986 134.84513 \r\nL 314.1986 134.49774 \r\nL 313.857385 134.566203 \r\nL 313.857385 134.508075 \r\nL 313.857385 134.216412 \r\nL 313.51617 134.284991 \r\nL 313.51617 134.226459 \r\nL 313.51617 133.814809 \r\nL 313.174955 133.883515 \r\nL 313.174955 133.824437 \r\nL 313.174955 131.773524 \r\nL 312.492526 131.911539 \r\nL 312.492526 131.849957 \r\nL 312.492526 130.917255 \r\nL 312.151311 130.986454 \r\nL 312.151311 130.923673 \r\nL 312.151311 130.291636 \r\nL 311.127666 130.436248 \r\nL 311.127666 130.244922 \r\nL 310.786452 130.314517 \r\nL 310.786452 130.250589 \r\nL 310.786452 130.05833 \r\nL 310.445237 130.128024 \r\nL 310.445237 130.063783 \r\nL 310.445237 129.806024 \r\nL 310.104022 129.875821 \r\nL 310.104022 129.811185 \r\nL 310.104022 129.746469 \r\nL 309.762807 129.816359 \r\nL 309.762807 129.751566 \r\nL 309.762807 129.621737 \r\nL 309.421592 129.691724 \r\nL 309.421592 129.626691 \r\nL 309.421592 129.16919 \r\nL 309.080377 129.239287 \r\nL 309.080377 129.173605 \r\nL 309.080377 126.8218 \r\nL 308.739163 126.892055 \r\nL 308.739163 126.823313 \r\nL 308.739163 126.547461 \r\nL 308.397948 126.617811 \r\nL 308.397948 126.548627 \r\nL 308.397948 125.500089 \r\nL 307.715518 125.641073 \r\nL 307.715518 125.570444 \r\nL 307.715518 125.428909 \r\nL 307.374303 125.499538 \r\nL 307.374303 125.428632 \r\nL 307.374303 125.001245 \r\nL 306.691873 125.142777 \r\nL 306.691873 125.071218 \r\nL 306.691873 124.567664 \r\nL 306.350659 124.638564 \r\nL 306.350659 124.566247 \r\nL 306.350659 124.348723 \r\nL 306.009444 124.419712 \r\nL 306.009444 124.347011 \r\nL 306.009444 122.647895 \r\nL 305.668229 122.718935 \r\nL 305.668229 122.643864 \r\nL 305.668229 122.568693 \r\nL 305.327014 122.639822 \r\nL 305.327014 122.564546 \r\nL 305.327014 121.653249 \r\nL 304.985799 121.724433 \r\nL 304.985799 121.647816 \r\nL 304.985799 120.564109 \r\nL 304.644584 120.635327 \r\nL 304.644584 120.557116 \r\nL 304.644584 119.210842 \r\nL 304.30337 119.28206 \r\nL 304.30337 119.201867 \r\nL 304.30337 117.65665 \r\nL 303.962155 117.727827 \r\nL 303.962155 117.645341 \r\nL 303.962155 117.562738 \r\nL 303.279725 117.622626 \r\nL 303.279725 117.123728 \r\nL 302.93851 117.195134 \r\nL 302.93851 117.11156 \r\nL 302.93851 116.776067 \r\nL 302.597295 116.847532 \r\nL 302.597295 116.763349 \r\nL 302.597295 115.829302 \r\nL 302.256081 115.900753 \r\nL 302.256081 115.815092 \r\nL 302.256081 115.729307 \r\nL 301.914866 115.800841 \r\nL 301.914866 115.714921 \r\nL 301.914866 115.456412 \r\nL 300.891221 115.58506 \r\nL 300.891221 113.29216 \r\nL 300.550006 113.363744 \r\nL 300.550006 113.27377 \r\nL 300.550006 112.457936 \r\nL 300.208792 112.529485 \r\nL 300.208792 112.438141 \r\nL 300.208792 111.702429 \r\nL 299.867577 111.773948 \r\nL 299.867577 111.681342 \r\nL 299.867577 110.653357 \r\nL 299.526362 110.724784 \r\nL 299.526362 110.630457 \r\nL 299.526362 110.441371 \r\nL 299.185147 110.512854 \r\nL 299.185147 110.418076 \r\nL 299.185147 109.365847 \r\nL 298.843932 109.437217 \r\nL 298.843932 109.340653 \r\nL 298.843932 108.758112 \r\nL 298.502717 108.829454 \r\nL 298.502717 108.731815 \r\nL 298.502717 107.448521 \r\nL 298.161502 107.519674 \r\nL 298.161502 107.419848 \r\nL 298.161502 107.319865 \r\nL 297.820288 107.391086 \r\nL 297.820288 107.290922 \r\nL 297.820288 107.090119 \r\nL 297.479073 107.161383 \r\nL 297.479073 107.060719 \r\nL 297.479073 106.147519 \r\nL 297.137858 106.218656 \r\nL 297.137858 106.116354 \r\nL 297.137858 105.395635 \r\nL 296.455428 105.434169 \r\nL 296.455428 105.017793 \r\nL 295.772999 105.160196 \r\nL 295.772999 105.055627 \r\nL 295.772999 104.950888 \r\nL 295.431784 105.022209 \r\nL 295.431784 104.917273 \r\nL 295.431784 104.812166 \r\nL 294.749354 104.955047 \r\nL 294.749354 104.849714 \r\nL 294.749354 104.532683 \r\nL 294.408139 104.604186 \r\nL 294.408139 104.498135 \r\nL 294.408139 103.965266 \r\nL 294.066924 104.036715 \r\nL 294.066924 103.929586 \r\nL 294.066924 103.066163 \r\nL 293.384495 103.208872 \r\nL 293.384495 103.100077 \r\nL 293.384495 102.223164 \r\nL 293.04328 102.294411 \r\nL 293.04328 102.183938 \r\nL 293.04328 101.740192 \r\nL 292.702065 101.811392 \r\nL 292.702065 101.699955 \r\nL 292.702065 101.027373 \r\nL 292.36085 101.098452 \r\nL 292.36085 100.985655 \r\nL 292.36085 99.501707 \r\nL 292.019635 99.572392 \r\nL 292.019635 98.759292 \r\nL 291.337206 98.900477 \r\nL 291.337206 98.313246 \r\nL 290.995991 98.383819 \r\nL 290.995991 96.832333 \r\nL 290.654776 96.902473 \r\nL 290.654776 96.051966 \r\nL 290.313561 96.121912 \r\nL 290.313561 95.630973 \r\nL 289.972346 95.700855 \r\nL 289.972346 94.70804 \r\nL 289.631132 94.777658 \r\nL 289.631132 94.527127 \r\nL 289.289917 94.59677 \r\nL 289.289917 94.219128 \r\nL 288.607487 94.358487 \r\nL 288.607487 93.468596 \r\nL 288.266272 93.5381 \r\nL 288.266272 92.895228 \r\nL 287.925057 92.964589 \r\nL 287.925057 92.054242 \r\nL 287.242628 92.192564 \r\nL 287.242628 92.061441 \r\nL 286.901413 92.130737 \r\nL 286.901413 91.735738 \r\nL 286.560198 91.804989 \r\nL 286.560198 91.00801 \r\nL 286.218983 91.077034 \r\nL 286.218983 90.540496 \r\nL 285.877768 90.609405 \r\nL 285.877768 88.974614 \r\nL 285.536553 89.042887 \r\nL 285.536553 87.510534 \r\nL 284.512909 87.713884 \r\nL 284.512909 87.431368 \r\nL 284.171694 87.499271 \r\nL 284.171694 86.930669 \r\nL 283.830479 86.998416 \r\nL 283.830479 86.855503 \r\nL 282.806835 87.059316 \r\nL 282.806835 86.483992 \r\nL 282.46562 86.551898 \r\nL 282.46562 86.407288 \r\nL 281.78319 86.54335 \r\nL 281.78319 86.107361 \r\nL 281.441975 86.175364 \r\nL 281.441975 86.029385 \r\nL 281.100761 86.097446 \r\nL 281.100761 84.620865 \r\nL 280.759546 84.688268 \r\nL 280.759546 84.538907 \r\nL 280.418331 84.606362 \r\nL 280.418331 84.306578 \r\nL 280.077116 84.374003 \r\nL 280.077116 84.072848 \r\nL 279.735901 84.140242 \r\nL 279.735901 83.228957 \r\nL 279.394686 83.295974 \r\nL 279.394686 82.681925 \r\nL 279.053472 82.748725 \r\nL 279.053472 82.129299 \r\nL 278.712257 82.195876 \r\nL 278.712257 81.727695 \r\nL 278.371042 81.794133 \r\nL 278.371042 81.637338 \r\nL 278.029827 81.70382 \r\nL 278.029827 80.91451 \r\nL 277.688612 80.980656 \r\nL 277.688612 80.821716 \r\nL 277.347397 80.887903 \r\nL 277.347397 80.087744 \r\nL 277.006182 80.153579 \r\nL 277.006182 78.854991 \r\nL 276.664968 78.920151 \r\nL 276.664968 78.756182 \r\nL 276.323753 78.821375 \r\nL 276.323753 77.829606 \r\nL 275.982538 77.894298 \r\nL 275.982538 77.727663 \r\nL 275.300108 77.857244 \r\nL 275.300108 77.354539 \r\nL 274.617679 77.484015 \r\nL 274.617679 76.807792 \r\nL 273.935249 76.936926 \r\nL 273.935249 75.910191 \r\nL 271.88796 76.296784 \r\nL 271.88796 74.900967 \r\nL 271.546745 74.964924 \r\nL 271.546745 74.079309 \r\nL 271.20553 74.142779 \r\nL 271.20553 73.066171 \r\nL 269.840671 73.318345 \r\nL 269.840671 72.772988 \r\nL 269.158241 72.899125 \r\nL 269.158241 72.716246 \r\nL 268.817026 72.779393 \r\nL 268.817026 71.672519 \r\nL 268.475812 71.734977 \r\nL 268.475812 71.175402 \r\nL 268.134597 71.237576 \r\nL 268.134597 69.534152 \r\nL 267.793382 69.595141 \r\nL 267.793382 69.21145 \r\nL 267.452167 69.272276 \r\nL 267.452167 69.079605 \r\nL 266.769737 69.201375 \r\nL 266.769737 68.619717 \r\nL 266.428522 68.680347 \r\nL 266.428522 68.485391 \r\nL 265.746093 68.606764 \r\nL 265.746093 68.41103 \r\nL 265.063663 68.532658 \r\nL 265.063663 68.336139 \r\nL 264.381233 68.458024 \r\nL 264.381233 67.466753 \r\nL 264.040019 67.527092 \r\nL 264.040019 66.926113 \r\nL 263.357589 67.046216 \r\nL 263.357589 66.642466 \r\nL 262.333944 66.82268 \r\nL 262.333944 66.211819 \r\nL 261.99273 66.271659 \r\nL 261.99273 66.06687 \r\nL 261.3103 66.186633 \r\nL 261.3103 64.317527 \r\nL 260.969085 64.375985 \r\nL 260.969085 63.954589 \r\nL 260.62787 64.012814 \r\nL 260.62787 63.80114 \r\nL 259.604226 63.976112 \r\nL 259.604226 63.121796 \r\nL 258.921796 63.237616 \r\nL 258.921796 63.0223 \r\nL 257.215722 63.313419 \r\nL 257.215722 62.661186 \r\nL 256.874507 62.719247 \r\nL 256.874507 62.500523 \r\nL 256.533292 62.558527 \r\nL 256.533292 62.339038 \r\nL 254.827218 62.630257 \r\nL 254.827218 61.965264 \r\nL 254.486003 62.023326 \r\nL 254.486003 61.800301 \r\nL 254.144788 61.858299 \r\nL 254.144788 61.41008 \r\nL 253.803573 61.467797 \r\nL 253.803573 61.016803 \r\nL 253.462359 61.074232 \r\nL 253.462359 60.847629 \r\nL 253.121144 60.904987 \r\nL 253.121144 60.449551 \r\nL 252.779929 60.506611 \r\nL 252.779929 60.048321 \r\nL 251.073855 60.333611 \r\nL 251.073855 60.102408 \r\nL 250.73264 60.15969 \r\nL 250.73264 59.927638 \r\nL 250.05021 60.042194 \r\nL 250.05021 59.809053 \r\nL 249.708995 59.866326 \r\nL 249.708995 59.397691 \r\nL 249.367781 59.454641 \r\nL 249.367781 59.219137 \r\nL 247.661706 59.504996 \r\nL 247.661706 59.029639 \r\nL 247.320491 59.086786 \r\nL 247.320491 58.847889 \r\nL 246.979277 58.904944 \r\nL 246.979277 58.424688 \r\nL 246.638062 58.481397 \r\nL 246.638062 57.997993 \r\nL 246.296847 58.054349 \r\nL 246.296847 57.567763 \r\nL 245.614417 57.679908 \r\nL 245.614417 57.189578 \r\nL 243.908343 57.470039 \r\nL 243.908343 57.22252 \r\nL 243.225913 57.33527 \r\nL 243.225913 57.086517 \r\nL 241.861054 57.312842 \r\nL 241.861054 57.062296 \r\nL 239.813765 57.40497 \r\nL 239.813765 56.898398 \r\nL 239.131335 57.012808 \r\nL 239.131335 56.757865 \r\nL 238.448906 56.872365 \r\nL 238.448906 56.616113 \r\nL 238.107691 56.673324 \r\nL 238.107691 56.158011 \r\nL 237.766476 56.214805 \r\nL 237.766476 55.435315 \r\nL 236.742831 55.604017 \r\nL 236.742831 54.285003 \r\nL 235.377972 54.506111 \r\nL 235.377972 54.238711 \r\nL 235.036757 54.294084 \r\nL 235.036757 53.756253 \r\nL 234.695542 53.811152 \r\nL 234.695542 53.540707 \r\nL 234.013113 53.650352 \r\nL 234.013113 53.378442 \r\nL 233.330683 53.488094 \r\nL 233.330683 53.214705 \r\nL 232.989468 53.269449 \r\nL 232.989468 52.994898 \r\nL 232.307039 53.104217 \r\nL 232.307039 52.551257 \r\nL 231.965824 52.605489 \r\nL 231.965824 51.487993 \r\nL 230.25975 51.754694 \r\nL 230.25975 51.187217 \r\nL 229.57732 51.293624 \r\nL 229.57732 50.721152 \r\nL 228.89489 50.826764 \r\nL 228.89489 50.538444 \r\nL 228.553675 50.591129 \r\nL 228.553675 50.301527 \r\nL 227.871246 50.406647 \r\nL 227.871246 49.823181 \r\nL 226.847601 49.979829 \r\nL 226.847601 49.68555 \r\nL 226.506386 49.737713 \r\nL 226.506386 48.848031 \r\nL 225.823957 48.950497 \r\nL 225.823957 48.651227 \r\nL 224.800312 48.804965 \r\nL 224.800312 48.201077 \r\nL 224.459097 48.25184 \r\nL 224.459097 47.643177 \r\nL 223.435453 47.793964 \r\nL 223.435453 47.486872 \r\nL 222.753023 47.587379 \r\nL 222.753023 47.27842 \r\nL 222.411808 47.328494 \r\nL 222.411808 46.080614 \r\nL 221.388164 46.226572 \r\nL 221.388164 45.59367 \r\nL 221.046949 45.641748 \r\nL 221.046949 45.32324 \r\nL 220.705734 45.371023 \r\nL 220.705734 45.050976 \r\nL 220.364519 45.098459 \r\nL 220.364519 44.454166 \r\nL 218.31723 44.736822 \r\nL 218.31723 44.410164 \r\nL 217.976015 44.45736 \r\nL 217.976015 44.129088 \r\nL 215.246297 44.508673 \r\nL 215.246297 44.175299 \r\nL 214.905082 44.222996 \r\nL 214.905082 43.887942 \r\nL 213.540222 44.078381 \r\nL 213.540222 43.400591 \r\nL 212.516578 43.54208 \r\nL 212.516578 43.199788 \r\nL 212.175363 43.24676 \r\nL 212.175363 42.902702 \r\nL 209.786859 43.232508 \r\nL 209.786859 42.181319 \r\nL 209.445644 42.227454 \r\nL 209.445644 41.519074 \r\nL 203.986207 42.262357 \r\nL 203.986207 41.896765 \r\nL 203.303777 41.991652 \r\nL 203.303777 41.62344 \r\nL 202.962562 41.670541 \r\nL 202.962562 41.300295 \r\nL 202.280133 41.393796 \r\nL 202.280133 41.020866 \r\nL 200.232844 41.301929 \r\nL 200.232844 40.543986 \r\nL 199.209199 40.683079 \r\nL 199.209199 39.915161 \r\nL 198.52677 40.006123 \r\nL 198.52677 39.618513 \r\nL 195.455836 40.030737 \r\nL 195.455836 38.839523 \r\nL 194.773406 38.92887 \r\nL 194.773406 38.527081 \r\nL 194.090977 38.61569 \r\nL 194.090977 38.210757 \r\nL 193.749762 38.254589 \r\nL 193.749762 37.847221 \r\nL 191.702473 38.109498 \r\nL 191.702473 37.695808 \r\nL 191.361258 37.739385 \r\nL 191.361258 37.323158 \r\nL 189.655184 37.539856 \r\nL 189.655184 37.117841 \r\nL 188.972754 37.204196 \r\nL 188.972754 36.778722 \r\nL 188.290324 36.864167 \r\nL 188.290324 36.435179 \r\nL 187.607895 36.519684 \r\nL 187.607895 36.087126 \r\nL 186.925465 36.170658 \r\nL 186.925465 35.296363 \r\nL 185.90182 35.417781 \r\nL 185.90182 34.083682 \r\nL 183.513317 34.354138 \r\nL 183.513317 33.898911 \r\nL 182.148457 34.053534 \r\nL 182.148457 33.129077 \r\nL 176.347805 33.78478 \r\nL 176.347805 33.301856 \r\nL 174.641731 33.499639 \r\nL 174.641731 33.008933 \r\nL 173.276871 33.16622 \r\nL 173.276871 32.668615 \r\nL 171.229582 32.903564 \r\nL 171.229582 32.396524 \r\nL 170.547153 32.474058 \r\nL 170.547153 30.930248 \r\nL 168.158649 31.182005 \r\nL 168.158649 30.653316 \r\nL 162.699211 31.243302 \r\nL 162.699211 30.690291 \r\nL 160.993137 30.878228 \r\nL 160.993137 30.315014 \r\nL 158.263419 30.614875 \r\nL 158.263419 30.036512 \r\nL 156.557344 30.223153 \r\nL 156.557344 29.633629 \r\nL 155.5337 29.743396 \r\nL 155.5337 29.145574 \r\nL 154.510055 29.252317 \r\nL 154.510055 28.645967 \r\nL 152.121551 28.890487 \r\nL 152.121551 28.268342 \r\nL 149.733048 28.510735 \r\nL 149.733048 27.871953 \r\nL 148.368188 28.007655 \r\nL 148.368188 27.357211 \r\nL 144.614825 27.726522 \r\nL 144.614825 27.049565 \r\nL 141.202677 27.387393 \r\nL 141.202677 26.683954 \r\nL 137.790528 27.021993 \r\nL 137.790528 26.289921 \r\nL 133.01352 26.769058 \r\nL 133.01352 25.995068 \r\nL 128.918942 26.412791 \r\nL 128.918942 25.597945 \r\nL 126.189224 25.873712 \r\nL 126.189224 25.026863 \r\nL 124.483149 25.191661 \r\nL 124.483149 24.320799 \r\nL 122.43586 24.506367 \r\nL 122.43586 23.606401 \r\nL 120.047357 23.808433 \r\nL 120.047357 22.873366 \r\nL 119.364927 22.925292 \r\nL 119.364927 21.973611 \r\nL 112.199415 22.484504 \r\nL 112.199415 21.425934 \r\nL 102.304185 22.162347 \r\nL 100.939326 22.283993 \r\nL 100.939326 21.007399 \r\nL 92.750169 21.67057 \r\nL 92.750169 20.16328 \r\nL 92.06774 20.207591 \r\nL 92.06774 18.656933 \r\nL 83.878584 18.988153 \r\nL 83.878584 17.083636 \r\nL 45.321307 17.083636 \r\nL 45.321307 17.083636 \r\n\" style=\"fill:none;stroke:#1f77b4;stroke-linecap:square;stroke-width:1.5;\"/>\r\n   </g>\r\n   <g id=\"patch_3\">\r\n    <path d=\"M 30.103125 224.64 \r\nL 30.103125 7.2 \r\n\" style=\"fill:none;stroke:#000000;stroke-linecap:square;stroke-linejoin:miter;stroke-width:0.8;\"/>\r\n   </g>\r\n   <g id=\"patch_4\">\r\n    <path d=\"M 364.903125 224.64 \r\nL 364.903125 7.2 \r\n\" style=\"fill:none;stroke:#000000;stroke-linecap:square;stroke-linejoin:miter;stroke-width:0.8;\"/>\r\n   </g>\r\n   <g id=\"patch_5\">\r\n    <path d=\"M 30.103125 224.64 \r\nL 364.903125 224.64 \r\n\" style=\"fill:none;stroke:#000000;stroke-linecap:square;stroke-linejoin:miter;stroke-width:0.8;\"/>\r\n   </g>\r\n   <g id=\"patch_6\">\r\n    <path d=\"M 30.103125 7.2 \r\nL 364.903125 7.2 \r\n\" style=\"fill:none;stroke:#000000;stroke-linecap:square;stroke-linejoin:miter;stroke-width:0.8;\"/>\r\n   </g>\r\n  </g>\r\n </g>\r\n <defs>\r\n  <clipPath id=\"pce18a2e6dc\">\r\n   <rect height=\"217.44\" width=\"334.8\" x=\"30.103125\" y=\"7.2\"/>\r\n  </clipPath>\r\n </defs>\r\n</svg>\r\n",
      "image/png": "[encoded data removed]"
     },
     "metadata": {
      "needs_background": "light"
     }
    }
   ],
   "source": [
    "plt.plot(recall, precision)"
   ]
  },
  {
   "source": [
    "#### 2.2.4 Courbe ROC:"
   ],
   "cell_type": "markdown",
   "metadata": {}
  },
  {
   "cell_type": "code",
   "execution_count": 144,
   "metadata": {},
   "outputs": [],
   "source": [
    "fp, tp, thresholds = roc_curve(bool_5_test, y_pred)"
   ]
  },
  {
   "cell_type": "code",
   "execution_count": 149,
   "metadata": {},
   "outputs": [
    {
     "output_type": "display_data",
     "data": {
      "text/plain": "<Figure size 432x288 with 1 Axes>",
      "image/svg+xml": "<?xml version=\"1.0\" encoding=\"utf-8\" standalone=\"no\"?>\r\n<!DOCTYPE svg PUBLIC \"-//W3C//DTD SVG 1.1//EN\"\r\n  \"http://www.w3.org/Graphics/SVG/1.1/DTD/svg11.dtd\">\r\n<!-- Created with matplotlib (https://matplotlib.org/) -->\r\n<svg height=\"262.19625pt\" version=\"1.1\" viewBox=\"0 0 385.78125 262.19625\" width=\"385.78125pt\" xmlns=\"http://www.w3.org/2000/svg\" xmlns:xlink=\"http://www.w3.org/1999/xlink\">\r\n <metadata>\r\n  <rdf:RDF xmlns:cc=\"http://creativecommons.org/ns#\" xmlns:dc=\"http://purl.org/dc/elements/1.1/\" xmlns:rdf=\"http://www.w3.org/1999/02/22-rdf-syntax-ns#\">\r\n   <cc:Work>\r\n    <dc:type rdf:resource=\"http://purl.org/dc/dcmitype/StillImage\"/>\r\n    <dc:date>2020-12-17T15:20:35.723987</dc:date>\r\n    <dc:format>image/svg+xml</dc:format>\r\n    <dc:creator>\r\n     <cc:Agent>\r\n      <dc:title>Matplotlib v3.3.2, https://matplotlib.org/</dc:title>\r\n     </cc:Agent>\r\n    </dc:creator>\r\n   </cc:Work>\r\n  </rdf:RDF>\r\n </metadata>\r\n <defs>\r\n  <style type=\"text/css\">*{stroke-linecap:butt;stroke-linejoin:round;}</style>\r\n </defs>\r\n <g id=\"figure_1\">\r\n  <g id=\"patch_1\">\r\n   <path d=\"M 0 262.19625 \r\nL 385.78125 262.19625 \r\nL 385.78125 0 \r\nL 0 0 \r\nz\r\n\" style=\"fill:none;\"/>\r\n  </g>\r\n  <g id=\"axes_1\">\r\n   <g id=\"patch_2\">\r\n    <path d=\"M 43.78125 224.64 \r\nL 378.58125 224.64 \r\nL 378.58125 7.2 \r\nL 43.78125 7.2 \r\nz\r\n\" style=\"fill:#ffffff;\"/>\r\n   </g>\r\n   <g id=\"matplotlib.axis_1\">\r\n    <g id=\"xtick_1\">\r\n     <g id=\"line2d_1\">\r\n      <path clip-path=\"url(#pd98b5386eb)\" d=\"M 58.999432 224.64 \r\nL 58.999432 7.2 \r\n\" style=\"fill:none;stroke:#b0b0b0;stroke-linecap:square;stroke-width:0.8;\"/>\r\n     </g>\r\n     <g id=\"line2d_2\">\r\n      <defs>\r\n       <path d=\"M 0 0 \r\nL 0 3.5 \r\n\" id=\"m10ab221106\" style=\"stroke:#000000;stroke-width:0.8;\"/>\r\n      </defs>\r\n      <g>\r\n       <use style=\"stroke:#000000;stroke-width:0.8;\" x=\"58.999432\" xlink:href=\"#m10ab221106\" y=\"224.64\"/>\r\n      </g>\r\n     </g>\r\n     <g id=\"text_1\">\r\n      <!-- 0.0 -->\r\n      <g transform=\"translate(51.047869 239.238437)scale(0.1 -0.1)\">\r\n       <defs>\r\n        <path d=\"M 31.78125 66.40625 \r\nQ 24.171875 66.40625 20.328125 58.90625 \r\nQ 16.5 51.421875 16.5 36.375 \r\nQ 16.5 21.390625 20.328125 13.890625 \r\nQ 24.171875 6.390625 31.78125 6.390625 \r\nQ 39.453125 6.390625 43.28125 13.890625 \r\nQ 47.125 21.390625 47.125 36.375 \r\nQ 47.125 51.421875 43.28125 58.90625 \r\nQ 39.453125 66.40625 31.78125 66.40625 \r\nz\r\nM 31.78125 74.21875 \r\nQ 44.046875 74.21875 50.515625 64.515625 \r\nQ 56.984375 54.828125 56.984375 36.375 \r\nQ 56.984375 17.96875 50.515625 8.265625 \r\nQ 44.046875 -1.421875 31.78125 -1.421875 \r\nQ 19.53125 -1.421875 13.0625 8.265625 \r\nQ 6.59375 17.96875 6.59375 36.375 \r\nQ 6.59375 54.828125 13.0625 64.515625 \r\nQ 19.53125 74.21875 31.78125 74.21875 \r\nz\r\n\" id=\"DejaVuSans-48\"/>\r\n        <path d=\"M 10.6875 12.40625 \r\nL 21 12.40625 \r\nL 21 0 \r\nL 10.6875 0 \r\nz\r\n\" id=\"DejaVuSans-46\"/>\r\n       </defs>\r\n       <use xlink:href=\"#DejaVuSans-48\"/>\r\n       <use x=\"63.623047\" xlink:href=\"#DejaVuSans-46\"/>\r\n       <use x=\"95.410156\" xlink:href=\"#DejaVuSans-48\"/>\r\n      </g>\r\n     </g>\r\n    </g>\r\n    <g id=\"xtick_2\">\r\n     <g id=\"line2d_3\">\r\n      <path clip-path=\"url(#pd98b5386eb)\" d=\"M 119.872159 224.64 \r\nL 119.872159 7.2 \r\n\" style=\"fill:none;stroke:#b0b0b0;stroke-linecap:square;stroke-width:0.8;\"/>\r\n     </g>\r\n     <g id=\"line2d_4\">\r\n      <g>\r\n       <use style=\"stroke:#000000;stroke-width:0.8;\" x=\"119.872159\" xlink:href=\"#m10ab221106\" y=\"224.64\"/>\r\n      </g>\r\n     </g>\r\n     <g id=\"text_2\">\r\n      <!-- 0.2 -->\r\n      <g transform=\"translate(111.920597 239.238437)scale(0.1 -0.1)\">\r\n       <defs>\r\n        <path d=\"M 19.1875 8.296875 \r\nL 53.609375 8.296875 \r\nL 53.609375 0 \r\nL 7.328125 0 \r\nL 7.328125 8.296875 \r\nQ 12.9375 14.109375 22.625 23.890625 \r\nQ 32.328125 33.6875 34.8125 36.53125 \r\nQ 39.546875 41.84375 41.421875 45.53125 \r\nQ 43.3125 49.21875 43.3125 52.78125 \r\nQ 43.3125 58.59375 39.234375 62.25 \r\nQ 35.15625 65.921875 28.609375 65.921875 \r\nQ 23.96875 65.921875 18.8125 64.3125 \r\nQ 13.671875 62.703125 7.8125 59.421875 \r\nL 7.8125 69.390625 \r\nQ 13.765625 71.78125 18.9375 73 \r\nQ 24.125 74.21875 28.421875 74.21875 \r\nQ 39.75 74.21875 46.484375 68.546875 \r\nQ 53.21875 62.890625 53.21875 53.421875 \r\nQ 53.21875 48.921875 51.53125 44.890625 \r\nQ 49.859375 40.875 45.40625 35.40625 \r\nQ 44.1875 33.984375 37.640625 27.21875 \r\nQ 31.109375 20.453125 19.1875 8.296875 \r\nz\r\n\" id=\"DejaVuSans-50\"/>\r\n       </defs>\r\n       <use xlink:href=\"#DejaVuSans-48\"/>\r\n       <use x=\"63.623047\" xlink:href=\"#DejaVuSans-46\"/>\r\n       <use x=\"95.410156\" xlink:href=\"#DejaVuSans-50\"/>\r\n      </g>\r\n     </g>\r\n    </g>\r\n    <g id=\"xtick_3\">\r\n     <g id=\"line2d_5\">\r\n      <path clip-path=\"url(#pd98b5386eb)\" d=\"M 180.744886 224.64 \r\nL 180.744886 7.2 \r\n\" style=\"fill:none;stroke:#b0b0b0;stroke-linecap:square;stroke-width:0.8;\"/>\r\n     </g>\r\n     <g id=\"line2d_6\">\r\n      <g>\r\n       <use style=\"stroke:#000000;stroke-width:0.8;\" x=\"180.744886\" xlink:href=\"#m10ab221106\" y=\"224.64\"/>\r\n      </g>\r\n     </g>\r\n     <g id=\"text_3\">\r\n      <!-- 0.4 -->\r\n      <g transform=\"translate(172.793324 239.238437)scale(0.1 -0.1)\">\r\n       <defs>\r\n        <path d=\"M 37.796875 64.3125 \r\nL 12.890625 25.390625 \r\nL 37.796875 25.390625 \r\nz\r\nM 35.203125 72.90625 \r\nL 47.609375 72.90625 \r\nL 47.609375 25.390625 \r\nL 58.015625 25.390625 \r\nL 58.015625 17.1875 \r\nL 47.609375 17.1875 \r\nL 47.609375 0 \r\nL 37.796875 0 \r\nL 37.796875 17.1875 \r\nL 4.890625 17.1875 \r\nL 4.890625 26.703125 \r\nz\r\n\" id=\"DejaVuSans-52\"/>\r\n       </defs>\r\n       <use xlink:href=\"#DejaVuSans-48\"/>\r\n       <use x=\"63.623047\" xlink:href=\"#DejaVuSans-46\"/>\r\n       <use x=\"95.410156\" xlink:href=\"#DejaVuSans-52\"/>\r\n      </g>\r\n     </g>\r\n    </g>\r\n    <g id=\"xtick_4\">\r\n     <g id=\"line2d_7\">\r\n      <path clip-path=\"url(#pd98b5386eb)\" d=\"M 241.617614 224.64 \r\nL 241.617614 7.2 \r\n\" style=\"fill:none;stroke:#b0b0b0;stroke-linecap:square;stroke-width:0.8;\"/>\r\n     </g>\r\n     <g id=\"line2d_8\">\r\n      <g>\r\n       <use style=\"stroke:#000000;stroke-width:0.8;\" x=\"241.617614\" xlink:href=\"#m10ab221106\" y=\"224.64\"/>\r\n      </g>\r\n     </g>\r\n     <g id=\"text_4\">\r\n      <!-- 0.6 -->\r\n      <g transform=\"translate(233.666051 239.238437)scale(0.1 -0.1)\">\r\n       <defs>\r\n        <path d=\"M 33.015625 40.375 \r\nQ 26.375 40.375 22.484375 35.828125 \r\nQ 18.609375 31.296875 18.609375 23.390625 \r\nQ 18.609375 15.53125 22.484375 10.953125 \r\nQ 26.375 6.390625 33.015625 6.390625 \r\nQ 39.65625 6.390625 43.53125 10.953125 \r\nQ 47.40625 15.53125 47.40625 23.390625 \r\nQ 47.40625 31.296875 43.53125 35.828125 \r\nQ 39.65625 40.375 33.015625 40.375 \r\nz\r\nM 52.59375 71.296875 \r\nL 52.59375 62.3125 \r\nQ 48.875 64.0625 45.09375 64.984375 \r\nQ 41.3125 65.921875 37.59375 65.921875 \r\nQ 27.828125 65.921875 22.671875 59.328125 \r\nQ 17.53125 52.734375 16.796875 39.40625 \r\nQ 19.671875 43.65625 24.015625 45.921875 \r\nQ 28.375 48.1875 33.59375 48.1875 \r\nQ 44.578125 48.1875 50.953125 41.515625 \r\nQ 57.328125 34.859375 57.328125 23.390625 \r\nQ 57.328125 12.15625 50.6875 5.359375 \r\nQ 44.046875 -1.421875 33.015625 -1.421875 \r\nQ 20.359375 -1.421875 13.671875 8.265625 \r\nQ 6.984375 17.96875 6.984375 36.375 \r\nQ 6.984375 53.65625 15.1875 63.9375 \r\nQ 23.390625 74.21875 37.203125 74.21875 \r\nQ 40.921875 74.21875 44.703125 73.484375 \r\nQ 48.484375 72.75 52.59375 71.296875 \r\nz\r\n\" id=\"DejaVuSans-54\"/>\r\n       </defs>\r\n       <use xlink:href=\"#DejaVuSans-48\"/>\r\n       <use x=\"63.623047\" xlink:href=\"#DejaVuSans-46\"/>\r\n       <use x=\"95.410156\" xlink:href=\"#DejaVuSans-54\"/>\r\n      </g>\r\n     </g>\r\n    </g>\r\n    <g id=\"xtick_5\">\r\n     <g id=\"line2d_9\">\r\n      <path clip-path=\"url(#pd98b5386eb)\" d=\"M 302.490341 224.64 \r\nL 302.490341 7.2 \r\n\" style=\"fill:none;stroke:#b0b0b0;stroke-linecap:square;stroke-width:0.8;\"/>\r\n     </g>\r\n     <g id=\"line2d_10\">\r\n      <g>\r\n       <use style=\"stroke:#000000;stroke-width:0.8;\" x=\"302.490341\" xlink:href=\"#m10ab221106\" y=\"224.64\"/>\r\n      </g>\r\n     </g>\r\n     <g id=\"text_5\">\r\n      <!-- 0.8 -->\r\n      <g transform=\"translate(294.538778 239.238437)scale(0.1 -0.1)\">\r\n       <defs>\r\n        <path d=\"M 31.78125 34.625 \r\nQ 24.75 34.625 20.71875 30.859375 \r\nQ 16.703125 27.09375 16.703125 20.515625 \r\nQ 16.703125 13.921875 20.71875 10.15625 \r\nQ 24.75 6.390625 31.78125 6.390625 \r\nQ 38.8125 6.390625 42.859375 10.171875 \r\nQ 46.921875 13.96875 46.921875 20.515625 \r\nQ 46.921875 27.09375 42.890625 30.859375 \r\nQ 38.875 34.625 31.78125 34.625 \r\nz\r\nM 21.921875 38.8125 \r\nQ 15.578125 40.375 12.03125 44.71875 \r\nQ 8.5 49.078125 8.5 55.328125 \r\nQ 8.5 64.0625 14.71875 69.140625 \r\nQ 20.953125 74.21875 31.78125 74.21875 \r\nQ 42.671875 74.21875 48.875 69.140625 \r\nQ 55.078125 64.0625 55.078125 55.328125 \r\nQ 55.078125 49.078125 51.53125 44.71875 \r\nQ 48 40.375 41.703125 38.8125 \r\nQ 48.828125 37.15625 52.796875 32.3125 \r\nQ 56.78125 27.484375 56.78125 20.515625 \r\nQ 56.78125 9.90625 50.3125 4.234375 \r\nQ 43.84375 -1.421875 31.78125 -1.421875 \r\nQ 19.734375 -1.421875 13.25 4.234375 \r\nQ 6.78125 9.90625 6.78125 20.515625 \r\nQ 6.78125 27.484375 10.78125 32.3125 \r\nQ 14.796875 37.15625 21.921875 38.8125 \r\nz\r\nM 18.3125 54.390625 \r\nQ 18.3125 48.734375 21.84375 45.5625 \r\nQ 25.390625 42.390625 31.78125 42.390625 \r\nQ 38.140625 42.390625 41.71875 45.5625 \r\nQ 45.3125 48.734375 45.3125 54.390625 \r\nQ 45.3125 60.0625 41.71875 63.234375 \r\nQ 38.140625 66.40625 31.78125 66.40625 \r\nQ 25.390625 66.40625 21.84375 63.234375 \r\nQ 18.3125 60.0625 18.3125 54.390625 \r\nz\r\n\" id=\"DejaVuSans-56\"/>\r\n       </defs>\r\n       <use xlink:href=\"#DejaVuSans-48\"/>\r\n       <use x=\"63.623047\" xlink:href=\"#DejaVuSans-46\"/>\r\n       <use x=\"95.410156\" xlink:href=\"#DejaVuSans-56\"/>\r\n      </g>\r\n     </g>\r\n    </g>\r\n    <g id=\"xtick_6\">\r\n     <g id=\"line2d_11\">\r\n      <path clip-path=\"url(#pd98b5386eb)\" d=\"M 363.363068 224.64 \r\nL 363.363068 7.2 \r\n\" style=\"fill:none;stroke:#b0b0b0;stroke-linecap:square;stroke-width:0.8;\"/>\r\n     </g>\r\n     <g id=\"line2d_12\">\r\n      <g>\r\n       <use style=\"stroke:#000000;stroke-width:0.8;\" x=\"363.363068\" xlink:href=\"#m10ab221106\" y=\"224.64\"/>\r\n      </g>\r\n     </g>\r\n     <g id=\"text_6\">\r\n      <!-- 1.0 -->\r\n      <g transform=\"translate(355.411506 239.238437)scale(0.1 -0.1)\">\r\n       <defs>\r\n        <path d=\"M 12.40625 8.296875 \r\nL 28.515625 8.296875 \r\nL 28.515625 63.921875 \r\nL 10.984375 60.40625 \r\nL 10.984375 69.390625 \r\nL 28.421875 72.90625 \r\nL 38.28125 72.90625 \r\nL 38.28125 8.296875 \r\nL 54.390625 8.296875 \r\nL 54.390625 0 \r\nL 12.40625 0 \r\nz\r\n\" id=\"DejaVuSans-49\"/>\r\n       </defs>\r\n       <use xlink:href=\"#DejaVuSans-49\"/>\r\n       <use x=\"63.623047\" xlink:href=\"#DejaVuSans-46\"/>\r\n       <use x=\"95.410156\" xlink:href=\"#DejaVuSans-48\"/>\r\n      </g>\r\n     </g>\r\n    </g>\r\n    <g id=\"text_7\">\r\n     <!-- Faux positifs -->\r\n     <g transform=\"translate(180.039062 252.916562)scale(0.1 -0.1)\">\r\n      <defs>\r\n       <path d=\"M 9.8125 72.90625 \r\nL 51.703125 72.90625 \r\nL 51.703125 64.59375 \r\nL 19.671875 64.59375 \r\nL 19.671875 43.109375 \r\nL 48.578125 43.109375 \r\nL 48.578125 34.8125 \r\nL 19.671875 34.8125 \r\nL 19.671875 0 \r\nL 9.8125 0 \r\nz\r\n\" id=\"DejaVuSans-70\"/>\r\n       <path d=\"M 34.28125 27.484375 \r\nQ 23.390625 27.484375 19.1875 25 \r\nQ 14.984375 22.515625 14.984375 16.5 \r\nQ 14.984375 11.71875 18.140625 8.90625 \r\nQ 21.296875 6.109375 26.703125 6.109375 \r\nQ 34.1875 6.109375 38.703125 11.40625 \r\nQ 43.21875 16.703125 43.21875 25.484375 \r\nL 43.21875 27.484375 \r\nz\r\nM 52.203125 31.203125 \r\nL 52.203125 0 \r\nL 43.21875 0 \r\nL 43.21875 8.296875 \r\nQ 40.140625 3.328125 35.546875 0.953125 \r\nQ 30.953125 -1.421875 24.3125 -1.421875 \r\nQ 15.921875 -1.421875 10.953125 3.296875 \r\nQ 6 8.015625 6 15.921875 \r\nQ 6 25.140625 12.171875 29.828125 \r\nQ 18.359375 34.515625 30.609375 34.515625 \r\nL 43.21875 34.515625 \r\nL 43.21875 35.40625 \r\nQ 43.21875 41.609375 39.140625 45 \r\nQ 35.0625 48.390625 27.6875 48.390625 \r\nQ 23 48.390625 18.546875 47.265625 \r\nQ 14.109375 46.140625 10.015625 43.890625 \r\nL 10.015625 52.203125 \r\nQ 14.9375 54.109375 19.578125 55.046875 \r\nQ 24.21875 56 28.609375 56 \r\nQ 40.484375 56 46.34375 49.84375 \r\nQ 52.203125 43.703125 52.203125 31.203125 \r\nz\r\n\" id=\"DejaVuSans-97\"/>\r\n       <path d=\"M 8.5 21.578125 \r\nL 8.5 54.6875 \r\nL 17.484375 54.6875 \r\nL 17.484375 21.921875 \r\nQ 17.484375 14.15625 20.5 10.265625 \r\nQ 23.53125 6.390625 29.59375 6.390625 \r\nQ 36.859375 6.390625 41.078125 11.03125 \r\nQ 45.3125 15.671875 45.3125 23.6875 \r\nL 45.3125 54.6875 \r\nL 54.296875 54.6875 \r\nL 54.296875 0 \r\nL 45.3125 0 \r\nL 45.3125 8.40625 \r\nQ 42.046875 3.421875 37.71875 1 \r\nQ 33.40625 -1.421875 27.6875 -1.421875 \r\nQ 18.265625 -1.421875 13.375 4.4375 \r\nQ 8.5 10.296875 8.5 21.578125 \r\nz\r\nM 31.109375 56 \r\nz\r\n\" id=\"DejaVuSans-117\"/>\r\n       <path d=\"M 54.890625 54.6875 \r\nL 35.109375 28.078125 \r\nL 55.90625 0 \r\nL 45.3125 0 \r\nL 29.390625 21.484375 \r\nL 13.484375 0 \r\nL 2.875 0 \r\nL 24.125 28.609375 \r\nL 4.6875 54.6875 \r\nL 15.28125 54.6875 \r\nL 29.78125 35.203125 \r\nL 44.28125 54.6875 \r\nz\r\n\" id=\"DejaVuSans-120\"/>\r\n       <path id=\"DejaVuSans-32\"/>\r\n       <path d=\"M 18.109375 8.203125 \r\nL 18.109375 -20.796875 \r\nL 9.078125 -20.796875 \r\nL 9.078125 54.6875 \r\nL 18.109375 54.6875 \r\nL 18.109375 46.390625 \r\nQ 20.953125 51.265625 25.265625 53.625 \r\nQ 29.59375 56 35.59375 56 \r\nQ 45.5625 56 51.78125 48.09375 \r\nQ 58.015625 40.1875 58.015625 27.296875 \r\nQ 58.015625 14.40625 51.78125 6.484375 \r\nQ 45.5625 -1.421875 35.59375 -1.421875 \r\nQ 29.59375 -1.421875 25.265625 0.953125 \r\nQ 20.953125 3.328125 18.109375 8.203125 \r\nz\r\nM 48.6875 27.296875 \r\nQ 48.6875 37.203125 44.609375 42.84375 \r\nQ 40.53125 48.484375 33.40625 48.484375 \r\nQ 26.265625 48.484375 22.1875 42.84375 \r\nQ 18.109375 37.203125 18.109375 27.296875 \r\nQ 18.109375 17.390625 22.1875 11.75 \r\nQ 26.265625 6.109375 33.40625 6.109375 \r\nQ 40.53125 6.109375 44.609375 11.75 \r\nQ 48.6875 17.390625 48.6875 27.296875 \r\nz\r\n\" id=\"DejaVuSans-112\"/>\r\n       <path d=\"M 30.609375 48.390625 \r\nQ 23.390625 48.390625 19.1875 42.75 \r\nQ 14.984375 37.109375 14.984375 27.296875 \r\nQ 14.984375 17.484375 19.15625 11.84375 \r\nQ 23.34375 6.203125 30.609375 6.203125 \r\nQ 37.796875 6.203125 41.984375 11.859375 \r\nQ 46.1875 17.53125 46.1875 27.296875 \r\nQ 46.1875 37.015625 41.984375 42.703125 \r\nQ 37.796875 48.390625 30.609375 48.390625 \r\nz\r\nM 30.609375 56 \r\nQ 42.328125 56 49.015625 48.375 \r\nQ 55.71875 40.765625 55.71875 27.296875 \r\nQ 55.71875 13.875 49.015625 6.21875 \r\nQ 42.328125 -1.421875 30.609375 -1.421875 \r\nQ 18.84375 -1.421875 12.171875 6.21875 \r\nQ 5.515625 13.875 5.515625 27.296875 \r\nQ 5.515625 40.765625 12.171875 48.375 \r\nQ 18.84375 56 30.609375 56 \r\nz\r\n\" id=\"DejaVuSans-111\"/>\r\n       <path d=\"M 44.28125 53.078125 \r\nL 44.28125 44.578125 \r\nQ 40.484375 46.53125 36.375 47.5 \r\nQ 32.28125 48.484375 27.875 48.484375 \r\nQ 21.1875 48.484375 17.84375 46.4375 \r\nQ 14.5 44.390625 14.5 40.28125 \r\nQ 14.5 37.15625 16.890625 35.375 \r\nQ 19.28125 33.59375 26.515625 31.984375 \r\nL 29.59375 31.296875 \r\nQ 39.15625 29.25 43.1875 25.515625 \r\nQ 47.21875 21.78125 47.21875 15.09375 \r\nQ 47.21875 7.46875 41.1875 3.015625 \r\nQ 35.15625 -1.421875 24.609375 -1.421875 \r\nQ 20.21875 -1.421875 15.453125 -0.5625 \r\nQ 10.6875 0.296875 5.421875 2 \r\nL 5.421875 11.28125 \r\nQ 10.40625 8.6875 15.234375 7.390625 \r\nQ 20.0625 6.109375 24.8125 6.109375 \r\nQ 31.15625 6.109375 34.5625 8.28125 \r\nQ 37.984375 10.453125 37.984375 14.40625 \r\nQ 37.984375 18.0625 35.515625 20.015625 \r\nQ 33.0625 21.96875 24.703125 23.78125 \r\nL 21.578125 24.515625 \r\nQ 13.234375 26.265625 9.515625 29.90625 \r\nQ 5.8125 33.546875 5.8125 39.890625 \r\nQ 5.8125 47.609375 11.28125 51.796875 \r\nQ 16.75 56 26.8125 56 \r\nQ 31.78125 56 36.171875 55.265625 \r\nQ 40.578125 54.546875 44.28125 53.078125 \r\nz\r\n\" id=\"DejaVuSans-115\"/>\r\n       <path d=\"M 9.421875 54.6875 \r\nL 18.40625 54.6875 \r\nL 18.40625 0 \r\nL 9.421875 0 \r\nz\r\nM 9.421875 75.984375 \r\nL 18.40625 75.984375 \r\nL 18.40625 64.59375 \r\nL 9.421875 64.59375 \r\nz\r\n\" id=\"DejaVuSans-105\"/>\r\n       <path d=\"M 18.3125 70.21875 \r\nL 18.3125 54.6875 \r\nL 36.8125 54.6875 \r\nL 36.8125 47.703125 \r\nL 18.3125 47.703125 \r\nL 18.3125 18.015625 \r\nQ 18.3125 11.328125 20.140625 9.421875 \r\nQ 21.96875 7.515625 27.59375 7.515625 \r\nL 36.8125 7.515625 \r\nL 36.8125 0 \r\nL 27.59375 0 \r\nQ 17.1875 0 13.234375 3.875 \r\nQ 9.28125 7.765625 9.28125 18.015625 \r\nL 9.28125 47.703125 \r\nL 2.6875 47.703125 \r\nL 2.6875 54.6875 \r\nL 9.28125 54.6875 \r\nL 9.28125 70.21875 \r\nz\r\n\" id=\"DejaVuSans-116\"/>\r\n       <path d=\"M 37.109375 75.984375 \r\nL 37.109375 68.5 \r\nL 28.515625 68.5 \r\nQ 23.6875 68.5 21.796875 66.546875 \r\nQ 19.921875 64.59375 19.921875 59.515625 \r\nL 19.921875 54.6875 \r\nL 34.71875 54.6875 \r\nL 34.71875 47.703125 \r\nL 19.921875 47.703125 \r\nL 19.921875 0 \r\nL 10.890625 0 \r\nL 10.890625 47.703125 \r\nL 2.296875 47.703125 \r\nL 2.296875 54.6875 \r\nL 10.890625 54.6875 \r\nL 10.890625 58.5 \r\nQ 10.890625 67.625 15.140625 71.796875 \r\nQ 19.390625 75.984375 28.609375 75.984375 \r\nz\r\n\" id=\"DejaVuSans-102\"/>\r\n      </defs>\r\n      <use xlink:href=\"#DejaVuSans-70\"/>\r\n      <use x=\"48.394531\" xlink:href=\"#DejaVuSans-97\"/>\r\n      <use x=\"109.673828\" xlink:href=\"#DejaVuSans-117\"/>\r\n      <use x=\"173.052734\" xlink:href=\"#DejaVuSans-120\"/>\r\n      <use x=\"232.232422\" xlink:href=\"#DejaVuSans-32\"/>\r\n      <use x=\"264.019531\" xlink:href=\"#DejaVuSans-112\"/>\r\n      <use x=\"327.496094\" xlink:href=\"#DejaVuSans-111\"/>\r\n      <use x=\"388.677734\" xlink:href=\"#DejaVuSans-115\"/>\r\n      <use x=\"440.777344\" xlink:href=\"#DejaVuSans-105\"/>\r\n      <use x=\"468.560547\" xlink:href=\"#DejaVuSans-116\"/>\r\n      <use x=\"507.769531\" xlink:href=\"#DejaVuSans-105\"/>\r\n      <use x=\"535.552734\" xlink:href=\"#DejaVuSans-102\"/>\r\n      <use x=\"570.757812\" xlink:href=\"#DejaVuSans-115\"/>\r\n     </g>\r\n    </g>\r\n   </g>\r\n   <g id=\"matplotlib.axis_2\">\r\n    <g id=\"ytick_1\">\r\n     <g id=\"line2d_13\">\r\n      <path clip-path=\"url(#pd98b5386eb)\" d=\"M 43.78125 214.756364 \r\nL 378.58125 214.756364 \r\n\" style=\"fill:none;stroke:#b0b0b0;stroke-linecap:square;stroke-width:0.8;\"/>\r\n     </g>\r\n     <g id=\"line2d_14\">\r\n      <defs>\r\n       <path d=\"M 0 0 \r\nL -3.5 0 \r\n\" id=\"m48b76e37d1\" style=\"stroke:#000000;stroke-width:0.8;\"/>\r\n      </defs>\r\n      <g>\r\n       <use style=\"stroke:#000000;stroke-width:0.8;\" x=\"43.78125\" xlink:href=\"#m48b76e37d1\" y=\"214.756364\"/>\r\n      </g>\r\n     </g>\r\n     <g id=\"text_8\">\r\n      <!-- 0.0 -->\r\n      <g transform=\"translate(20.878125 218.555582)scale(0.1 -0.1)\">\r\n       <use xlink:href=\"#DejaVuSans-48\"/>\r\n       <use x=\"63.623047\" xlink:href=\"#DejaVuSans-46\"/>\r\n       <use x=\"95.410156\" xlink:href=\"#DejaVuSans-48\"/>\r\n      </g>\r\n     </g>\r\n    </g>\r\n    <g id=\"ytick_2\">\r\n     <g id=\"line2d_15\">\r\n      <path clip-path=\"url(#pd98b5386eb)\" d=\"M 43.78125 175.221818 \r\nL 378.58125 175.221818 \r\n\" style=\"fill:none;stroke:#b0b0b0;stroke-linecap:square;stroke-width:0.8;\"/>\r\n     </g>\r\n     <g id=\"line2d_16\">\r\n      <g>\r\n       <use style=\"stroke:#000000;stroke-width:0.8;\" x=\"43.78125\" xlink:href=\"#m48b76e37d1\" y=\"175.221818\"/>\r\n      </g>\r\n     </g>\r\n     <g id=\"text_9\">\r\n      <!-- 0.2 -->\r\n      <g transform=\"translate(20.878125 179.021037)scale(0.1 -0.1)\">\r\n       <use xlink:href=\"#DejaVuSans-48\"/>\r\n       <use x=\"63.623047\" xlink:href=\"#DejaVuSans-46\"/>\r\n       <use x=\"95.410156\" xlink:href=\"#DejaVuSans-50\"/>\r\n      </g>\r\n     </g>\r\n    </g>\r\n    <g id=\"ytick_3\">\r\n     <g id=\"line2d_17\">\r\n      <path clip-path=\"url(#pd98b5386eb)\" d=\"M 43.78125 135.687273 \r\nL 378.58125 135.687273 \r\n\" style=\"fill:none;stroke:#b0b0b0;stroke-linecap:square;stroke-width:0.8;\"/>\r\n     </g>\r\n     <g id=\"line2d_18\">\r\n      <g>\r\n       <use style=\"stroke:#000000;stroke-width:0.8;\" x=\"43.78125\" xlink:href=\"#m48b76e37d1\" y=\"135.687273\"/>\r\n      </g>\r\n     </g>\r\n     <g id=\"text_10\">\r\n      <!-- 0.4 -->\r\n      <g transform=\"translate(20.878125 139.486491)scale(0.1 -0.1)\">\r\n       <use xlink:href=\"#DejaVuSans-48\"/>\r\n       <use x=\"63.623047\" xlink:href=\"#DejaVuSans-46\"/>\r\n       <use x=\"95.410156\" xlink:href=\"#DejaVuSans-52\"/>\r\n      </g>\r\n     </g>\r\n    </g>\r\n    <g id=\"ytick_4\">\r\n     <g id=\"line2d_19\">\r\n      <path clip-path=\"url(#pd98b5386eb)\" d=\"M 43.78125 96.152727 \r\nL 378.58125 96.152727 \r\n\" style=\"fill:none;stroke:#b0b0b0;stroke-linecap:square;stroke-width:0.8;\"/>\r\n     </g>\r\n     <g id=\"line2d_20\">\r\n      <g>\r\n       <use style=\"stroke:#000000;stroke-width:0.8;\" x=\"43.78125\" xlink:href=\"#m48b76e37d1\" y=\"96.152727\"/>\r\n      </g>\r\n     </g>\r\n     <g id=\"text_11\">\r\n      <!-- 0.6 -->\r\n      <g transform=\"translate(20.878125 99.951946)scale(0.1 -0.1)\">\r\n       <use xlink:href=\"#DejaVuSans-48\"/>\r\n       <use x=\"63.623047\" xlink:href=\"#DejaVuSans-46\"/>\r\n       <use x=\"95.410156\" xlink:href=\"#DejaVuSans-54\"/>\r\n      </g>\r\n     </g>\r\n    </g>\r\n    <g id=\"ytick_5\">\r\n     <g id=\"line2d_21\">\r\n      <path clip-path=\"url(#pd98b5386eb)\" d=\"M 43.78125 56.618182 \r\nL 378.58125 56.618182 \r\n\" style=\"fill:none;stroke:#b0b0b0;stroke-linecap:square;stroke-width:0.8;\"/>\r\n     </g>\r\n     <g id=\"line2d_22\">\r\n      <g>\r\n       <use style=\"stroke:#000000;stroke-width:0.8;\" x=\"43.78125\" xlink:href=\"#m48b76e37d1\" y=\"56.618182\"/>\r\n      </g>\r\n     </g>\r\n     <g id=\"text_12\">\r\n      <!-- 0.8 -->\r\n      <g transform=\"translate(20.878125 60.417401)scale(0.1 -0.1)\">\r\n       <use xlink:href=\"#DejaVuSans-48\"/>\r\n       <use x=\"63.623047\" xlink:href=\"#DejaVuSans-46\"/>\r\n       <use x=\"95.410156\" xlink:href=\"#DejaVuSans-56\"/>\r\n      </g>\r\n     </g>\r\n    </g>\r\n    <g id=\"ytick_6\">\r\n     <g id=\"line2d_23\">\r\n      <path clip-path=\"url(#pd98b5386eb)\" d=\"M 43.78125 17.083636 \r\nL 378.58125 17.083636 \r\n\" style=\"fill:none;stroke:#b0b0b0;stroke-linecap:square;stroke-width:0.8;\"/>\r\n     </g>\r\n     <g id=\"line2d_24\">\r\n      <g>\r\n       <use style=\"stroke:#000000;stroke-width:0.8;\" x=\"43.78125\" xlink:href=\"#m48b76e37d1\" y=\"17.083636\"/>\r\n      </g>\r\n     </g>\r\n     <g id=\"text_13\">\r\n      <!-- 1.0 -->\r\n      <g transform=\"translate(20.878125 20.882855)scale(0.1 -0.1)\">\r\n       <use xlink:href=\"#DejaVuSans-49\"/>\r\n       <use x=\"63.623047\" xlink:href=\"#DejaVuSans-46\"/>\r\n       <use x=\"95.410156\" xlink:href=\"#DejaVuSans-48\"/>\r\n      </g>\r\n     </g>\r\n    </g>\r\n    <g id=\"text_14\">\r\n     <!-- Vrais positifs -->\r\n     <g transform=\"translate(14.798438 147.984062)rotate(-90)scale(0.1 -0.1)\">\r\n      <defs>\r\n       <path d=\"M 28.609375 0 \r\nL 0.78125 72.90625 \r\nL 11.078125 72.90625 \r\nL 34.1875 11.53125 \r\nL 57.328125 72.90625 \r\nL 67.578125 72.90625 \r\nL 39.796875 0 \r\nz\r\n\" id=\"DejaVuSans-86\"/>\r\n       <path d=\"M 41.109375 46.296875 \r\nQ 39.59375 47.171875 37.8125 47.578125 \r\nQ 36.03125 48 33.890625 48 \r\nQ 26.265625 48 22.1875 43.046875 \r\nQ 18.109375 38.09375 18.109375 28.8125 \r\nL 18.109375 0 \r\nL 9.078125 0 \r\nL 9.078125 54.6875 \r\nL 18.109375 54.6875 \r\nL 18.109375 46.1875 \r\nQ 20.953125 51.171875 25.484375 53.578125 \r\nQ 30.03125 56 36.53125 56 \r\nQ 37.453125 56 38.578125 55.875 \r\nQ 39.703125 55.765625 41.0625 55.515625 \r\nz\r\n\" id=\"DejaVuSans-114\"/>\r\n      </defs>\r\n      <use xlink:href=\"#DejaVuSans-86\"/>\r\n      <use x=\"68.408203\" xlink:href=\"#DejaVuSans-114\"/>\r\n      <use x=\"109.521484\" xlink:href=\"#DejaVuSans-97\"/>\r\n      <use x=\"170.800781\" xlink:href=\"#DejaVuSans-105\"/>\r\n      <use x=\"198.583984\" xlink:href=\"#DejaVuSans-115\"/>\r\n      <use x=\"250.683594\" xlink:href=\"#DejaVuSans-32\"/>\r\n      <use x=\"282.470703\" xlink:href=\"#DejaVuSans-112\"/>\r\n      <use x=\"345.947266\" xlink:href=\"#DejaVuSans-111\"/>\r\n      <use x=\"407.128906\" xlink:href=\"#DejaVuSans-115\"/>\r\n      <use x=\"459.228516\" xlink:href=\"#DejaVuSans-105\"/>\r\n      <use x=\"487.011719\" xlink:href=\"#DejaVuSans-116\"/>\r\n      <use x=\"526.220703\" xlink:href=\"#DejaVuSans-105\"/>\r\n      <use x=\"554.003906\" xlink:href=\"#DejaVuSans-102\"/>\r\n      <use x=\"589.208984\" xlink:href=\"#DejaVuSans-115\"/>\r\n     </g>\r\n    </g>\r\n   </g>\r\n   <g id=\"line2d_25\">\r\n    <path clip-path=\"url(#pd98b5386eb)\" d=\"M 58.999432 214.756364 \r\nL 59.099683 178.634554 \r\nL 59.133101 178.634554 \r\nL 59.233352 164.673363 \r\nL 59.266769 164.673363 \r\nL 59.367021 157.803571 \r\nL 59.400438 157.803571 \r\nL 59.500689 147.831292 \r\nL 59.534107 147.831292 \r\nL 59.634358 143.177562 \r\nL 59.667775 143.177562 \r\nL 59.768027 138.523832 \r\nL 59.801444 138.523832 \r\nL 59.834861 133.42689 \r\nL 59.935113 133.42689 \r\nL 60.035364 129.659584 \r\nL 60.068781 129.659584 \r\nL 60.169033 123.454611 \r\nL 60.269284 123.454611 \r\nL 60.369536 121.903367 \r\nL 60.402953 121.903367 \r\nL 60.503205 119.687305 \r\nL 60.536622 119.687305 \r\nL 60.636873 117.249637 \r\nL 60.737125 117.249637 \r\nL 60.837376 114.14715 \r\nL 60.904211 114.14715 \r\nL 61.004462 111.709482 \r\nL 61.03788 111.709482 \r\nL 61.104714 107.942177 \r\nL 61.204965 107.942177 \r\nL 61.2718 105.504509 \r\nL 61.338634 105.504509 \r\nL 61.438886 102.402022 \r\nL 61.472303 102.402022 \r\nL 61.572554 100.629172 \r\nL 61.605972 100.629172 \r\nL 61.672806 99.742748 \r\nL 61.806475 99.742748 \r\nL 61.873309 98.41311 \r\nL 61.940143 98.41311 \r\nL 62.040395 97.083473 \r\nL 62.140646 97.083473 \r\nL 62.240898 95.753836 \r\nL 62.274315 95.753836 \r\nL 62.374567 94.645805 \r\nL 62.441401 94.645805 \r\nL 62.441401 93.537774 \r\nL 62.57507 93.537774 \r\nL 62.675321 92.651349 \r\nL 62.708738 92.651349 \r\nL 62.775573 91.543318 \r\nL 62.842407 91.543318 \r\nL 62.875824 90.435287 \r\nL 63.04291 90.435287 \r\nL 63.143162 89.548863 \r\nL 63.209996 89.548863 \r\nL 63.27683 88.440832 \r\nL 63.343665 88.440832 \r\nL 63.443916 84.673526 \r\nL 63.510751 84.673526 \r\nL 63.577585 84.008708 \r\nL 63.644419 84.008708 \r\nL 63.744671 83.343889 \r\nL 63.811505 83.343889 \r\nL 63.911757 81.792646 \r\nL 63.945174 81.792646 \r\nL 64.012008 80.019796 \r\nL 64.078843 80.019796 \r\nL 64.179094 79.354978 \r\nL 64.245928 79.354978 \r\nL 64.34618 78.690159 \r\nL 64.446431 78.690159 \r\nL 64.513266 77.138916 \r\nL 64.613517 77.138916 \r\nL 64.646935 75.587672 \r\nL 64.780603 75.587672 \r\nL 64.880855 74.479641 \r\nL 65.181609 74.479641 \r\nL 65.215027 73.814823 \r\nL 65.315278 73.814823 \r\nL 65.382112 72.706792 \r\nL 65.482364 72.706792 \r\nL 65.482364 72.485185 \r\nL 65.64945 72.485185 \r\nL 65.749701 70.933942 \r\nL 65.849953 70.933942 \r\nL 65.950204 70.047517 \r\nL 66.250959 70.047517 \r\nL 66.35121 69.604305 \r\nL 66.551714 69.604305 \r\nL 66.585131 68.939486 \r\nL 66.685382 68.939486 \r\nL 66.685382 68.053062 \r\nL 66.885885 68.053062 \r\nL 66.885885 67.831455 \r\nL 67.052971 67.831455 \r\nL 67.052971 67.609849 \r\nL 67.320309 67.609849 \r\nL 67.320309 66.280212 \r\nL 67.520812 66.280212 \r\nL 67.520812 65.837 \r\nL 67.65448 65.837 \r\nL 67.754732 64.950575 \r\nL 67.788149 64.950575 \r\nL 67.788149 64.728969 \r\nL 67.988652 64.728969 \r\nL 68.022069 64.285756 \r\nL 68.289407 64.285756 \r\nL 68.289407 64.06415 \r\nL 68.456493 64.06415 \r\nL 68.48991 63.620938 \r\nL 68.656996 63.620938 \r\nL 68.690413 63.177725 \r\nL 68.790664 63.177725 \r\nL 68.790664 62.956119 \r\nL 68.924333 62.956119 \r\nL 68.924333 62.734513 \r\nL 69.058002 62.734513 \r\nL 69.058002 62.512907 \r\nL 69.258505 62.512907 \r\nL 69.325339 62.069694 \r\nL 69.392173 62.069694 \r\nL 69.425591 61.626482 \r\nL 69.759762 61.626482 \r\nL 69.79318 61.183269 \r\nL 69.893431 61.183269 \r\nL 69.926848 60.518451 \r\nL 70.060517 60.518451 \r\nL 70.093934 59.632026 \r\nL 70.227603 59.632026 \r\nL 70.294437 58.745601 \r\nL 70.662026 58.745601 \r\nL 70.662026 58.523995 \r\nL 71.063032 58.523995 \r\nL 71.063032 58.302389 \r\nL 71.196701 58.302389 \r\nL 71.196701 58.080783 \r\nL 71.397204 58.080783 \r\nL 71.497456 57.63757 \r\nL 71.530873 57.63757 \r\nL 71.530873 57.194358 \r\nL 71.764793 57.194358 \r\nL 71.764793 56.972752 \r\nL 71.931879 56.972752 \r\nL 71.931879 56.751146 \r\nL 72.165799 56.751146 \r\nL 72.266051 56.086327 \r\nL 72.332885 56.086327 \r\nL 72.332885 55.864721 \r\nL 72.600222 55.864721 \r\nL 72.600222 55.643115 \r\nL 72.733891 55.643115 \r\nL 72.733891 55.421508 \r\nL 72.967811 55.421508 \r\nL 72.967811 55.199902 \r\nL 73.402235 55.199902 \r\nL 73.402235 54.978296 \r\nL 73.56932 54.978296 \r\nL 73.56932 54.535084 \r\nL 73.803241 54.535084 \r\nL 73.803241 54.313477 \r\nL 74.271081 54.313477 \r\nL 74.271081 54.091871 \r\nL 74.505001 54.091871 \r\nL 74.505001 53.870265 \r\nL 74.672087 53.870265 \r\nL 74.672087 53.648659 \r\nL 74.972842 53.648659 \r\nL 74.972842 53.205446 \r\nL 75.273596 53.205446 \r\nL 75.273596 52.98384 \r\nL 75.474099 52.98384 \r\nL 75.474099 52.762234 \r\nL 75.607768 52.762234 \r\nL 75.674602 52.097415 \r\nL 75.741437 52.097415 \r\nL 75.741437 51.654203 \r\nL 75.875106 51.654203 \r\nL 75.908523 51.210991 \r\nL 76.17586 51.210991 \r\nL 76.17586 50.989384 \r\nL 76.510032 50.989384 \r\nL 76.610283 50.546172 \r\nL 76.677118 50.546172 \r\nL 76.677118 50.324566 \r\nL 77.144958 50.324566 \r\nL 77.144958 50.10296 \r\nL 77.378878 50.10296 \r\nL 77.378878 49.881353 \r\nL 77.779885 49.881353 \r\nL 77.880136 49.438141 \r\nL 78.281142 49.438141 \r\nL 78.281142 49.216535 \r\nL 78.581897 49.216535 \r\nL 78.581897 48.994929 \r\nL 78.916069 48.994929 \r\nL 78.916069 48.773322 \r\nL 79.784915 48.773322 \r\nL 79.818332 48.108504 \r\nL 79.952001 48.108504 \r\nL 80.018835 47.665291 \r\nL 80.419841 47.665291 \r\nL 80.419841 47.443685 \r\nL 80.586927 47.443685 \r\nL 80.586927 47.222079 \r\nL 80.78743 47.222079 \r\nL 80.887682 46.55726 \r\nL 81.556025 46.55726 \r\nL 81.556025 46.335654 \r\nL 82.157535 46.335654 \r\nL 82.157535 46.114048 \r\nL 82.658792 46.114048 \r\nL 82.658792 45.892442 \r\nL 83.093216 45.892442 \r\nL 83.16005 45.44923 \r\nL 83.962062 45.44923 \r\nL 83.962062 45.227623 \r\nL 84.095731 45.227623 \r\nL 84.095731 45.006017 \r\nL 84.363068 45.006017 \r\nL 84.363068 44.562805 \r\nL 84.596988 44.562805 \r\nL 84.69724 43.897986 \r\nL 85.231915 43.897986 \r\nL 85.231915 43.67638 \r\nL 85.399001 43.67638 \r\nL 85.399001 43.454774 \r\nL 86.602019 43.454774 \r\nL 86.602019 43.233168 \r\nL 86.869356 43.233168 \r\nL 86.969608 42.789955 \r\nL 87.036442 42.789955 \r\nL 87.036442 42.568349 \r\nL 87.203528 42.568349 \r\nL 87.203528 42.346743 \r\nL 87.337197 42.346743 \r\nL 87.437448 41.90353 \r\nL 87.470866 41.90353 \r\nL 87.470866 41.460318 \r\nL 87.838454 41.460318 \r\nL 87.838454 41.238712 \r\nL 88.373129 41.238712 \r\nL 88.373129 40.795499 \r\nL 89.54273 40.795499 \r\nL 89.54273 40.573893 \r\nL 89.810068 40.573893 \r\nL 89.810068 40.352287 \r\nL 90.010571 40.352287 \r\nL 90.010571 40.130681 \r\nL 90.244491 40.130681 \r\nL 90.344743 39.687468 \r\nL 90.979669 39.687468 \r\nL 90.979669 39.465862 \r\nL 91.581178 39.465862 \r\nL 91.614595 39.02265 \r\nL 93.719877 39.02265 \r\nL 93.719877 38.801044 \r\nL 94.054049 38.801044 \r\nL 94.054049 38.579437 \r\nL 94.75581 38.579437 \r\nL 94.75581 38.357831 \r\nL 94.889479 38.357831 \r\nL 94.889479 38.136225 \r\nL 95.023147 38.136225 \r\nL 95.023147 37.914619 \r\nL 95.323902 37.914619 \r\nL 95.323902 37.693013 \r\nL 96.593754 37.693013 \r\nL 96.593754 37.471406 \r\nL 98.197779 37.471406 \r\nL 98.197779 37.2498 \r\nL 98.331448 37.2498 \r\nL 98.331448 37.028194 \r\nL 99.333963 37.028194 \r\nL 99.333963 36.806588 \r\nL 99.968889 36.806588 \r\nL 99.968889 36.363375 \r\nL 100.603816 36.363375 \r\nL 100.603816 36.141769 \r\nL 102.943018 36.141769 \r\nL 102.943018 35.920163 \r\nL 103.210355 35.920163 \r\nL 103.210355 35.698557 \r\nL 105.616392 35.698557 \r\nL 105.616392 35.476951 \r\nL 105.750061 35.476951 \r\nL 105.750061 35.255344 \r\nL 106.485239 35.255344 \r\nL 106.485239 35.033738 \r\nL 107.086748 35.033738 \r\nL 107.120165 34.590526 \r\nL 108.824441 34.590526 \r\nL 108.824441 34.36892 \r\nL 110.294797 34.36892 \r\nL 110.294797 34.147313 \r\nL 110.562134 34.147313 \r\nL 110.562134 33.925707 \r\nL 111.798569 33.925707 \r\nL 111.798569 33.704101 \r\nL 112.901336 33.704101 \r\nL 112.901336 33.482495 \r\nL 113.536263 33.482495 \r\nL 113.536263 33.260889 \r\nL 113.703348 33.260889 \r\nL 113.703348 33.039283 \r\nL 115.240539 33.039283 \r\nL 115.240539 32.817676 \r\nL 116.276471 32.817676 \r\nL 116.276471 32.59607 \r\nL 118.281502 32.59607 \r\nL 118.281502 32.374464 \r\nL 120.520452 32.374464 \r\nL 120.520452 32.152858 \r\nL 121.322465 32.152858 \r\nL 121.322465 31.931252 \r\nL 122.024225 31.931252 \r\nL 122.057642 31.488039 \r\nL 125.39936 31.488039 \r\nL 125.39936 31.044827 \r\nL 128.039317 31.044827 \r\nL 128.039317 30.823221 \r\nL 128.172986 30.823221 \r\nL 128.172986 30.601614 \r\nL 128.340071 30.601614 \r\nL 128.373489 30.158402 \r\nL 129.30917 30.158402 \r\nL 129.30917 29.936796 \r\nL 129.509673 29.936796 \r\nL 129.509673 29.71519 \r\nL 130.512188 29.71519 \r\nL 130.512188 29.493583 \r\nL 131.481286 29.493583 \r\nL 131.481286 29.271977 \r\nL 131.782041 29.271977 \r\nL 131.782041 29.050371 \r\nL 132.517218 29.050371 \r\nL 132.517218 28.828765 \r\nL 133.018476 28.828765 \r\nL 133.018476 28.607159 \r\nL 133.252396 28.607159 \r\nL 133.252396 28.385552 \r\nL 136.627531 28.385552 \r\nL 136.627531 28.163946 \r\nL 142.709457 28.163946 \r\nL 142.709457 27.94234 \r\nL 143.645138 27.94234 \r\nL 143.645138 27.720734 \r\nL 146.452181 27.720734 \r\nL 146.485598 27.277521 \r\nL 147.788868 27.277521 \r\nL 147.788868 27.055915 \r\nL 153.135616 27.055915 \r\nL 153.135616 26.834309 \r\nL 157.179094 26.834309 \r\nL 157.179094 26.612703 \r\nL 157.81402 26.612703 \r\nL 157.81402 26.391097 \r\nL 158.950204 26.391097 \r\nL 158.950204 25.947884 \r\nL 163.361272 25.947884 \r\nL 163.394689 25.504672 \r\nL 164.363787 25.504672 \r\nL 164.363787 25.283066 \r\nL 176.16005 25.283066 \r\nL 176.16005 25.061459 \r\nL 178.098246 25.061459 \r\nL 178.098246 24.839853 \r\nL 186.753295 24.839853 \r\nL 186.753295 24.618247 \r\nL 190.429184 24.618247 \r\nL 190.429184 24.396641 \r\nL 191.130945 24.396641 \r\nL 191.130945 24.175035 \r\nL 191.999791 24.175035 \r\nL 191.999791 23.953428 \r\nL 197.379956 23.953428 \r\nL 197.379956 23.731822 \r\nL 198.549558 23.731822 \r\nL 198.549558 23.510216 \r\nL 201.557103 23.510216 \r\nL 201.557103 23.28861 \r\nL 201.95811 23.28861 \r\nL 201.95811 23.067004 \r\nL 204.598066 23.067004 \r\nL 204.598066 22.845397 \r\nL 205.199576 22.845397 \r\nL 205.199576 22.623791 \r\nL 206.33576 22.623791 \r\nL 206.33576 22.402185 \r\nL 209.543808 22.402185 \r\nL 209.543808 22.180579 \r\nL 211.18125 22.180579 \r\nL 211.18125 21.958973 \r\nL 223.111182 21.958973 \r\nL 223.111182 21.737366 \r\nL 230.429543 21.737366 \r\nL 230.429543 21.51576 \r\nL 232.60166 21.51576 \r\nL 232.60166 21.294154 \r\nL 243.930082 21.294154 \r\nL 243.930082 21.072548 \r\nL 245.634358 21.072548 \r\nL 245.634358 20.850942 \r\nL 248.708738 20.850942 \r\nL 248.708738 20.629336 \r\nL 257.430621 20.629336 \r\nL 257.430621 20.407729 \r\nL 264.916069 20.407729 \r\nL 264.916069 20.186123 \r\nL 276.745749 20.186123 \r\nL 276.745749 19.964517 \r\nL 276.879417 19.964517 \r\nL 276.879417 19.742911 \r\nL 280.822644 19.742911 \r\nL 280.822644 19.521305 \r\nL 288.274674 19.521305 \r\nL 288.274674 19.299698 \r\nL 289.544527 19.299698 \r\nL 289.544527 19.078092 \r\nL 309.294078 19.078092 \r\nL 309.294078 18.856486 \r\nL 316.311685 18.856486 \r\nL 316.311685 18.63488 \r\nL 332.853187 18.63488 \r\nL 332.853187 18.413274 \r\nL 333.421279 18.413274 \r\nL 333.421279 18.191667 \r\nL 341.107229 18.191667 \r\nL 341.107229 17.970061 \r\nL 349.795695 17.970061 \r\nL 349.795695 17.748455 \r\nL 352.769823 17.748455 \r\nL 352.769823 17.526849 \r\nL 359.286173 17.526849 \r\nL 359.286173 17.305243 \r\nL 361.725627 17.305243 \r\nL 361.725627 17.083636 \r\nL 363.363068 17.083636 \r\nL 363.363068 17.083636 \r\n\" style=\"fill:none;stroke:#1f77b4;stroke-linecap:square;stroke-width:1.5;\"/>\r\n   </g>\r\n   <g id=\"patch_3\">\r\n    <path d=\"M 43.78125 224.64 \r\nL 43.78125 7.2 \r\n\" style=\"fill:none;stroke:#000000;stroke-linecap:square;stroke-linejoin:miter;stroke-width:0.8;\"/>\r\n   </g>\r\n   <g id=\"patch_4\">\r\n    <path d=\"M 378.58125 224.64 \r\nL 378.58125 7.2 \r\n\" style=\"fill:none;stroke:#000000;stroke-linecap:square;stroke-linejoin:miter;stroke-width:0.8;\"/>\r\n   </g>\r\n   <g id=\"patch_5\">\r\n    <path d=\"M 43.78125 224.64 \r\nL 378.58125 224.64 \r\n\" style=\"fill:none;stroke:#000000;stroke-linecap:square;stroke-linejoin:miter;stroke-width:0.8;\"/>\r\n   </g>\r\n   <g id=\"patch_6\">\r\n    <path d=\"M 43.78125 7.2 \r\nL 378.58125 7.2 \r\n\" style=\"fill:none;stroke:#000000;stroke-linecap:square;stroke-linejoin:miter;stroke-width:0.8;\"/>\r\n   </g>\r\n  </g>\r\n </g>\r\n <defs>\r\n  <clipPath id=\"pd98b5386eb\">\r\n   <rect height=\"217.44\" width=\"334.8\" x=\"43.78125\" y=\"7.2\"/>\r\n  </clipPath>\r\n </defs>\r\n</svg>\r\n",
      "image/png": "[encoded data removed]"
     },
     "metadata": {
      "needs_background": "light"
     }
    }
   ],
   "source": [
    "# Afficher la courbe\n",
    "plt.plot(fp, tp)\n",
    "plt.xlabel(\"Faux positifs\")\n",
    "plt.ylabel(\"Vrais positifs\")\n",
    "plt.grid()"
   ]
  },
  {
   "cell_type": "code",
   "execution_count": 155,
   "metadata": {},
   "outputs": [
    {
     "output_type": "stream",
     "name": "stdout",
     "text": [
      "ROC : 0.947\n"
     ]
    }
   ],
   "source": [
    "# Calculer l'air sous la courbe\n",
    "print(\"ROC : {0:0.3f}\".format(roc_auc_score(bool_5_test, y_pred)))"
   ]
  },
  {
   "source": [
    "## 3 - Apprentissage d’un classifieur multi-classes"
   ],
   "cell_type": "markdown",
   "metadata": {}
  },
  {
   "cell_type": "code",
   "execution_count": 156,
   "metadata": {},
   "outputs": [],
   "source": [
    "model_multi = SGDClassifier().fit(X_train, y_train)"
   ]
  },
  {
   "cell_type": "code",
   "execution_count": 163,
   "metadata": {},
   "outputs": [
    {
     "output_type": "execute_result",
     "data": {
      "text/plain": [
       "array([5], dtype=uint8)"
      ]
     },
     "metadata": {},
     "execution_count": 163
    }
   ],
   "source": [
    "model_multi.predict([X_train[0]])"
   ]
  },
  {
   "cell_type": "code",
   "execution_count": 169,
   "metadata": {},
   "outputs": [
    {
     "output_type": "execute_result",
     "data": {
      "text/plain": [
       "array([-18326.82865485, -29345.53635818,  -7400.55666579,  -1124.33747045,\n",
       "       -26138.77167884,    562.33621181, -18977.2346219 ,  -9525.3548202 ,\n",
       "       -16381.56807799, -14250.35517815])"
      ]
     },
     "metadata": {},
     "execution_count": 169
    }
   ],
   "source": [
    "model_multi.decision_function(X_train)[0]"
   ]
  },
  {
   "cell_type": "code",
   "execution_count": 170,
   "metadata": {},
   "outputs": [
    {
     "output_type": "execute_result",
     "data": {
      "text/plain": [
       "array([0, 1, 2, 3, 4, 5, 6, 7, 8, 9], dtype=uint8)"
      ]
     },
     "metadata": {},
     "execution_count": 170
    }
   ],
   "source": [
    "model_multi.classes_"
   ]
  },
  {
   "source": [
    "### 3.2 - Évaluation du modèle d’apprentissage sur les données d’apprentissage\n",
    "\n",
    "#### 3.2.1 - Taux de classification"
   ],
   "cell_type": "markdown",
   "metadata": {}
  },
  {
   "source": [
    "cross_val_score(model_multi, X_train, y_train, cv=3, scoring='accuracy')"
   ],
   "cell_type": "code",
   "metadata": {},
   "execution_count": 173,
   "outputs": [
    {
     "output_type": "execute_result",
     "data": {
      "text/plain": [
       "array([0.8793 , 0.8772 , 0.85555])"
      ]
     },
     "metadata": {},
     "execution_count": 173
    }
   ]
  },
  {
   "cell_type": "code",
   "execution_count": 176,
   "metadata": {},
   "outputs": [],
   "source": [
    "from sklearn.preprocessing import StandardScaler"
   ]
  },
  {
   "cell_type": "code",
   "execution_count": 196,
   "metadata": {},
   "outputs": [],
   "source": [
    "scaler = StandardScaler()\n",
    "X_train_scale = scaler.fit_transform(X_train)"
   ]
  },
  {
   "cell_type": "code",
   "execution_count": 186,
   "metadata": {},
   "outputs": [
    {
     "output_type": "error",
     "ename": "IndexError",
     "evalue": "index 4 is out of bounds for axis 0 with size 1",
     "traceback": [
      "\u001b[1;31m---------------------------------------------------------------------------\u001b[0m",
      "\u001b[1;31mIndexError\u001b[0m                                Traceback (most recent call last)",
      "\u001b[1;32m<ipython-input-186-e2816d28bf06>\u001b[0m in \u001b[0;36m<module>\u001b[1;34m\u001b[0m\n\u001b[1;32m----> 1\u001b[1;33m \u001b[0my_train\u001b[0m\u001b[1;33m[\u001b[0m\u001b[1;36m4\u001b[0m\u001b[1;33m]\u001b[0m\u001b[1;33m\u001b[0m\u001b[1;33m\u001b[0m\u001b[0m\n\u001b[0m",
      "\u001b[1;31mIndexError\u001b[0m: index 4 is out of bounds for axis 0 with size 1"
     ]
    }
   ],
   "source": [
    "cross_val_score(model_multi, X_train_scale, y_train, cv=3, scoring='accuracy')"
   ]
  },
  {
   "cell_type": "code",
   "execution_count": null,
   "metadata": {},
   "outputs": [],
   "source": []
  }
 ],
 "metadata": {
  "kernelspec": {
   "display_name": "Python 3",
   "language": "python",
   "name": "python3"
  },
  "language_info": {
   "codemirror_mode": {
    "name": "ipython",
    "version": 3
   },
   "file_extension": ".py",
   "mimetype": "text/x-python",
   "name": "python",
   "nbconvert_exporter": "python",
   "pygments_lexer": "ipython3",
   "version": "3.8.3-final"
  }
 },
 "nbformat": 4,
 "nbformat_minor": 4
}